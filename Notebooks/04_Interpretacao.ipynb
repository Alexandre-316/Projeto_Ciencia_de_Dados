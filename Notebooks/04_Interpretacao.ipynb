{
 "cells": [
  {
   "attachments": {
    "puc-img-brasao.png": {
     "image/png": "[encoded data removed]"
    }
   },
   "cell_type": "markdown",
   "metadata": {},
   "source": [
    "![puc-img-brasao.png](attachment:puc-img-brasao.png)\n",
    "<B>PONTIFÍCIA UNIVERSIDADE CATÓLICA DE MINAS GERAIS\n",
    "\n",
    "NÚCLEO DE EDUCAÇÃO A DISTÂNCIA\n",
    "\n",
    "Pós-graduação Lato Sensu em Ciência de Dados e Big Data\n",
    "\n",
    "Título: Segmentação de Vendedores do marketplace Olist Store em 2017\n",
    "\n",
    "Aluno: Alexandre Luís Nunes Cardiga</B>\n"
   ]
  },
  {
   "cell_type": "markdown",
   "metadata": {},
   "source": [
    "<B>Nome:</B> 04_Interpretacao.ipynb\n",
    "\n",
    "<B>Data:</B> 11/04/2022    \n",
    "   \n",
    "<a class=\"anchor\" id=\"etapas\"></a>\n",
    "## Indice\n",
    "\n",
    "1. [Interpretação Melhor Solução: K-Means](#arout)<br>\n",
    "2. [Olist deve remover vendedores de baixo desempenho de seu mercado?](#limpa)<br>\n"
   ]
  },
  {
   "cell_type": "code",
   "execution_count": 44,
   "metadata": {},
   "outputs": [
    {
     "name": "stdout",
     "output_type": "stream",
     "text": [
      "Once deleted, variables cannot be recovered. Proceed (y/[n])? y\n"
     ]
    }
   ],
   "source": [
    "# Apaga todas as variáveis\n",
    "%reset"
   ]
  },
  {
   "cell_type": "code",
   "execution_count": 45,
   "metadata": {},
   "outputs": [
    {
     "name": "stdout",
     "output_type": "stream",
     "text": [
      "Interactive namespace is empty.\n"
     ]
    }
   ],
   "source": [
    "%whos"
   ]
  },
  {
   "cell_type": "code",
   "execution_count": 46,
   "metadata": {},
   "outputs": [],
   "source": [
    "#!pip install -U matplotlib --user\n",
    "#Successfully installed matplotlib-3.5.1"
   ]
  },
  {
   "cell_type": "code",
   "execution_count": 47,
   "metadata": {},
   "outputs": [],
   "source": [
    "import sys\n",
    "import os\n",
    "import pandas as pd\n",
    "import numpy as np\n",
    "import requests\n",
    "import matplotlib\n",
    "import matplotlib.pyplot as plt\n",
    "\n",
    "\n",
    "import seaborn as sns\n",
    "#import datetime\n",
    "\n",
    "from datetime import datetime\n",
    "\n",
    "from scipy import stats\n",
    "from scipy.stats    import normaltest, kstest\n",
    "from geopy.geocoders import Nominatim\n",
    "from geopy.extra.rate_limiter import RateLimiter\n",
    "\n",
    "\n",
    "import warnings \n",
    "if not sys.warnoptions:\n",
    "    #warnings.filterwarnings('ignore')\n",
    "    warnings.simplefilter('ignore')\n",
    "\n",
    "# Define a pasta onde está o arquivo minhas_funcoes.py\n",
    "sys.path.insert(0, '../Lib')\n",
    "\n",
    "# Importar minhas_funcoes.py\n",
    "import minhas_funcoes as mf\n",
    "\n",
    "import locale\n",
    "locale.setlocale(locale.LC_ALL, 'pt_BR.utf8')\n",
    "\n",
    "caminho = '../Data/'\n",
    "caminho_temp = '../Template/'\n",
    "\n",
    "#exibe todas as colunas\n",
    "#pd.set_option('display.max_columns', None)\n",
    "pd.set_option('display.max_columns', 150)\n",
    "#pd.set_option('display.max_columns', 999999999)\n",
    "#pd.set_option('display.max_rows', 999999999)\n",
    "pd.set_option('display.max_rows', 150)"
   ]
  },
  {
   "cell_type": "code",
   "execution_count": 48,
   "metadata": {},
   "outputs": [
    {
     "name": "stdout",
     "output_type": "stream",
     "text": [
      "3.5.1\n"
     ]
    }
   ],
   "source": [
    "#versão necessária 3.5.1\n",
    "print(matplotlib.__version__)"
   ]
  },
  {
   "cell_type": "markdown",
   "metadata": {},
   "source": [
    "## <a class=\"anchor\" id=\"arout\">1. Interpretação Melhor Solução</a>\n",
    "[Retorna ao Indice](#etapas)"
   ]
  },
  {
   "cell_type": "code",
   "execution_count": 49,
   "metadata": {},
   "outputs": [],
   "source": [
    "df_abt = pd.read_excel(caminho_temp+'03_01_Modelos_K_Means_df_abt_kmeans_cluster.xlsx',index_col=0)\n",
    "#df_abt_kmeans = pd.read_excel(caminho_temp+'03_01_Modelos_K_Means_df_abt_sc_kmeans.xlsx', index_col=0)\n",
    "df_abt_ms = pd.read_excel(caminho_temp+'03_03_Modelos_MeanShift_df_abt_sc_ms.xlsx', index_col=0)"
   ]
  },
  {
   "cell_type": "code",
   "execution_count": 50,
   "metadata": {},
   "outputs": [
    {
     "data": {
      "text/plain": [
       "((1658, 115), (1658, 24))"
      ]
     },
     "execution_count": 50,
     "metadata": {},
     "output_type": "execute_result"
    }
   ],
   "source": [
    "df_abt.shape,df_abt_ms.shape"
   ]
  },
  {
   "cell_type": "code",
   "execution_count": 51,
   "metadata": {},
   "outputs": [
    {
     "data": {
      "text/plain": [
       "Index(['vendedor_id', 'vendedor_cidade', 'vendedor_estado',\n",
       "       'vendedor_grande_regiao_nome', 'plano', 'produto_categoria_nome_moda'],\n",
       "      dtype='object')"
      ]
     },
     "execution_count": 51,
     "metadata": {},
     "output_type": "execute_result"
    }
   ],
   "source": [
    "df_abt_ms.select_dtypes(exclude=['int64','float64']).columns"
   ]
  },
  {
   "cell_type": "code",
   "execution_count": 52,
   "metadata": {},
   "outputs": [
    {
     "data": {
      "text/plain": [
       "Index(['vendedor_id', 'vendedor_cidade', 'vendedor_estado',\n",
       "       'vendedor_grande_regiao_nome', 'plano',\n",
       "       'distancia_cliente_vendedor_mediana', 'produto_peso_g_mediana',\n",
       "       'produto_categoria_nome_moda', 'produto_categoria_id_moda',\n",
       "       'Area(km2)_mediana', 'habit_km2_mediana',\n",
       "       'postagem_limiteparceiro_variacao_mediana',\n",
       "       'postagem_limiteparceiro_dias_atraso_mediana',\n",
       "       'entrega_estimado_dias_atraso_mediana', 'PIB_percapita_(3285,11000]',\n",
       "       'qtd_mes_01', 'qtd_mes_02', 'qtd_mes_04', 'qtd_mes_06', 'qtd_mes_12',\n",
       "       'lucro', 'dias_entre_pedidos', 'vlr_medio_pedido', 'cluster'],\n",
       "      dtype='object')"
      ]
     },
     "execution_count": 52,
     "metadata": {},
     "output_type": "execute_result"
    }
   ],
   "source": [
    "df_abt_ms.columns"
   ]
  },
  {
   "cell_type": "code",
   "execution_count": 53,
   "metadata": {},
   "outputs": [
    {
     "data": {
      "text/plain": [
       "Index(['distancia_cliente_vendedor_mediana', 'produto_peso_g_mediana',\n",
       "       'produto_categoria_id_moda', 'Area(km2)_mediana', 'habit_km2_mediana',\n",
       "       'postagem_limiteparceiro_variacao_mediana',\n",
       "       'postagem_limiteparceiro_dias_atraso_mediana',\n",
       "       'entrega_estimado_dias_atraso_mediana', 'PIB_percapita_(3285,11000]',\n",
       "       'qtd_mes_01', 'qtd_mes_02', 'qtd_mes_04', 'qtd_mes_06', 'qtd_mes_12',\n",
       "       'lucro', 'dias_entre_pedidos', 'vlr_medio_pedido', 'cluster'],\n",
       "      dtype='object')"
      ]
     },
     "execution_count": 53,
     "metadata": {},
     "output_type": "execute_result"
    }
   ],
   "source": [
    "\n",
    "df_abt_ms.select_dtypes(['int64','float64']).columns"
   ]
  },
  {
   "cell_type": "code",
   "execution_count": 54,
   "metadata": {},
   "outputs": [
    {
     "name": "stdout",
     "output_type": "stream",
     "text": [
      "Wall time: 590 ms\n"
     ]
    }
   ],
   "source": [
    "%%time\n",
    "df_teste_kruskal=mf.teste_kruskal(df_abt_ms,\n",
    "                                'distancia_cliente_vendedor_mediana', 'produto_peso_g_mediana',\n",
    "                                'Area(km2)_mediana', 'habit_km2_mediana',\n",
    "                                'postagem_limiteparceiro_variacao_mediana',\n",
    "                                'postagem_limiteparceiro_dias_atraso_mediana',\n",
    "                                'entrega_estimado_dias_atraso_mediana', 'PIB_percapita_(3285,11000]',\n",
    "                                'qtd_mes_01', 'qtd_mes_02', 'qtd_mes_04', 'qtd_mes_06', 'qtd_mes_12',\n",
    "                                'lucro', 'dias_entre_pedidos', 'vlr_medio_pedido')"
   ]
  },
  {
   "cell_type": "code",
   "execution_count": 55,
   "metadata": {},
   "outputs": [
    {
     "data": {
      "text/html": [
       "<div>\n",
       "<style scoped>\n",
       "    .dataframe tbody tr th:only-of-type {\n",
       "        vertical-align: middle;\n",
       "    }\n",
       "\n",
       "    .dataframe tbody tr th {\n",
       "        vertical-align: top;\n",
       "    }\n",
       "\n",
       "    .dataframe thead th {\n",
       "        text-align: right;\n",
       "    }\n",
       "</style>\n",
       "<table border=\"1\" class=\"dataframe\">\n",
       "  <thead>\n",
       "    <tr style=\"text-align: right;\">\n",
       "      <th></th>\n",
       "      <th>med_0</th>\n",
       "      <th>std_0</th>\n",
       "      <th>med_1</th>\n",
       "      <th>std_1</th>\n",
       "      <th>med_2</th>\n",
       "      <th>std_2</th>\n",
       "      <th>med_3</th>\n",
       "      <th>std_3</th>\n",
       "      <th>med_4</th>\n",
       "      <th>std_4</th>\n",
       "      <th>med_5</th>\n",
       "      <th>std_5</th>\n",
       "      <th>med_6</th>\n",
       "      <th>std_6</th>\n",
       "      <th>med_7</th>\n",
       "      <th>std_7</th>\n",
       "      <th>t</th>\n",
       "      <th>p</th>\n",
       "    </tr>\n",
       "  </thead>\n",
       "  <tbody>\n",
       "    <tr>\n",
       "      <th>Area(km2)_mediana</th>\n",
       "      <td>715.94</td>\n",
       "      <td>524.25</td>\n",
       "      <td>720.66</td>\n",
       "      <td>1872.43</td>\n",
       "      <td>713.96</td>\n",
       "      <td>806.91</td>\n",
       "      <td>684.11</td>\n",
       "      <td>354.01</td>\n",
       "      <td>690.57</td>\n",
       "      <td>589.97</td>\n",
       "      <td>692.82</td>\n",
       "      <td>250.64</td>\n",
       "      <td>707.11</td>\n",
       "      <td>209.14</td>\n",
       "      <td>794.57</td>\n",
       "      <td>1671.83</td>\n",
       "      <td>1.23</td>\n",
       "      <td>0.990199</td>\n",
       "    </tr>\n",
       "    <tr>\n",
       "      <th>vlr_medio_pedido</th>\n",
       "      <td>118.65</td>\n",
       "      <td>151.83</td>\n",
       "      <td>110.24</td>\n",
       "      <td>222.99</td>\n",
       "      <td>124.99</td>\n",
       "      <td>188.02</td>\n",
       "      <td>121.87</td>\n",
       "      <td>100.25</td>\n",
       "      <td>129.70</td>\n",
       "      <td>140.62</td>\n",
       "      <td>122.89</td>\n",
       "      <td>106.03</td>\n",
       "      <td>121.04</td>\n",
       "      <td>116.25</td>\n",
       "      <td>136.30</td>\n",
       "      <td>214.17</td>\n",
       "      <td>6.34</td>\n",
       "      <td>0.501182</td>\n",
       "    </tr>\n",
       "  </tbody>\n",
       "</table>\n",
       "</div>"
      ],
      "text/plain": [
       "                    med_0   std_0   med_1    std_1   med_2   std_2   med_3  \\\n",
       "Area(km2)_mediana  715.94  524.25  720.66  1872.43  713.96  806.91  684.11   \n",
       "vlr_medio_pedido   118.65  151.83  110.24   222.99  124.99  188.02  121.87   \n",
       "\n",
       "                    std_3   med_4   std_4   med_5   std_5   med_6   std_6  \\\n",
       "Area(km2)_mediana  354.01  690.57  589.97  692.82  250.64  707.11  209.14   \n",
       "vlr_medio_pedido   100.25  129.70  140.62  122.89  106.03  121.04  116.25   \n",
       "\n",
       "                    med_7    std_7     t         p  \n",
       "Area(km2)_mediana  794.57  1671.83  1.23  0.990199  \n",
       "vlr_medio_pedido   136.30   214.17  6.34  0.501182  "
      ]
     },
     "execution_count": 55,
     "metadata": {},
     "output_type": "execute_result"
    }
   ],
   "source": [
    "df_teste_kruskal[df_teste_kruskal['p']>0.05]"
   ]
  },
  {
   "cell_type": "code",
   "execution_count": 56,
   "metadata": {},
   "outputs": [],
   "source": [
    "#Recursos interessantes para a apresentação:"
   ]
  },
  {
   "cell_type": "code",
   "execution_count": 57,
   "metadata": {},
   "outputs": [],
   "source": [
    "#H0=A mediana das features são iguais nos clusters.\n",
    "#Ha=A mediana das features NÃO são iguais nos clusters."
   ]
  },
  {
   "cell_type": "code",
   "execution_count": 58,
   "metadata": {},
   "outputs": [
    {
     "data": {
      "text/html": [
       "<div>\n",
       "<style scoped>\n",
       "    .dataframe tbody tr th:only-of-type {\n",
       "        vertical-align: middle;\n",
       "    }\n",
       "\n",
       "    .dataframe tbody tr th {\n",
       "        vertical-align: top;\n",
       "    }\n",
       "\n",
       "    .dataframe thead th {\n",
       "        text-align: right;\n",
       "    }\n",
       "</style>\n",
       "<table border=\"1\" class=\"dataframe\">\n",
       "  <thead>\n",
       "    <tr style=\"text-align: right;\">\n",
       "      <th></th>\n",
       "      <th>med_0</th>\n",
       "      <th>std_0</th>\n",
       "      <th>med_1</th>\n",
       "      <th>std_1</th>\n",
       "      <th>med_2</th>\n",
       "      <th>std_2</th>\n",
       "      <th>med_3</th>\n",
       "      <th>std_3</th>\n",
       "      <th>med_4</th>\n",
       "      <th>std_4</th>\n",
       "      <th>med_5</th>\n",
       "      <th>std_5</th>\n",
       "      <th>med_6</th>\n",
       "      <th>std_6</th>\n",
       "      <th>med_7</th>\n",
       "      <th>std_7</th>\n",
       "      <th>t</th>\n",
       "      <th>p</th>\n",
       "    </tr>\n",
       "  </thead>\n",
       "  <tbody>\n",
       "    <tr>\n",
       "      <th>distancia_cliente_vendedor_mediana</th>\n",
       "      <td>422.51</td>\n",
       "      <td>331.47</td>\n",
       "      <td>469.93</td>\n",
       "      <td>572.85</td>\n",
       "      <td>446.86</td>\n",
       "      <td>366.64</td>\n",
       "      <td>436.21</td>\n",
       "      <td>254.53</td>\n",
       "      <td>525.55</td>\n",
       "      <td>560.81</td>\n",
       "      <td>405.14</td>\n",
       "      <td>179.52</td>\n",
       "      <td>475.64</td>\n",
       "      <td>205.33</td>\n",
       "      <td>495.79</td>\n",
       "      <td>629.29</td>\n",
       "      <td>34.33</td>\n",
       "      <td>0.000015</td>\n",
       "    </tr>\n",
       "    <tr>\n",
       "      <th>produto_peso_g_mediana</th>\n",
       "      <td>712.00</td>\n",
       "      <td>4040.81</td>\n",
       "      <td>800.00</td>\n",
       "      <td>5615.99</td>\n",
       "      <td>850.00</td>\n",
       "      <td>4132.05</td>\n",
       "      <td>750.00</td>\n",
       "      <td>2489.50</td>\n",
       "      <td>500.00</td>\n",
       "      <td>2734.43</td>\n",
       "      <td>650.00</td>\n",
       "      <td>2699.50</td>\n",
       "      <td>1050.00</td>\n",
       "      <td>2596.00</td>\n",
       "      <td>1100.00</td>\n",
       "      <td>4367.02</td>\n",
       "      <td>19.32</td>\n",
       "      <td>0.007235</td>\n",
       "    </tr>\n",
       "    <tr>\n",
       "      <th>habit_km2_mediana</th>\n",
       "      <td>2011.56</td>\n",
       "      <td>2267.82</td>\n",
       "      <td>1403.95</td>\n",
       "      <td>2847.38</td>\n",
       "      <td>961.92</td>\n",
       "      <td>2056.06</td>\n",
       "      <td>917.79</td>\n",
       "      <td>1560.33</td>\n",
       "      <td>885.00</td>\n",
       "      <td>1661.56</td>\n",
       "      <td>1045.77</td>\n",
       "      <td>1207.61</td>\n",
       "      <td>933.72</td>\n",
       "      <td>882.01</td>\n",
       "      <td>1573.00</td>\n",
       "      <td>2437.79</td>\n",
       "      <td>65.54</td>\n",
       "      <td>0.000000</td>\n",
       "    </tr>\n",
       "    <tr>\n",
       "      <th>postagem_limiteparceiro_variacao_mediana</th>\n",
       "      <td>-4.00</td>\n",
       "      <td>2.06</td>\n",
       "      <td>-4.00</td>\n",
       "      <td>3.29</td>\n",
       "      <td>-4.00</td>\n",
       "      <td>3.87</td>\n",
       "      <td>-4.00</td>\n",
       "      <td>1.75</td>\n",
       "      <td>-4.00</td>\n",
       "      <td>1.89</td>\n",
       "      <td>-4.00</td>\n",
       "      <td>1.67</td>\n",
       "      <td>-4.00</td>\n",
       "      <td>1.68</td>\n",
       "      <td>1.00</td>\n",
       "      <td>12.35</td>\n",
       "      <td>95.03</td>\n",
       "      <td>0.000000</td>\n",
       "    </tr>\n",
       "    <tr>\n",
       "      <th>postagem_limiteparceiro_dias_atraso_mediana</th>\n",
       "      <td>0.00</td>\n",
       "      <td>0.30</td>\n",
       "      <td>0.00</td>\n",
       "      <td>0.00</td>\n",
       "      <td>0.00</td>\n",
       "      <td>0.00</td>\n",
       "      <td>0.00</td>\n",
       "      <td>0.00</td>\n",
       "      <td>0.00</td>\n",
       "      <td>0.00</td>\n",
       "      <td>0.00</td>\n",
       "      <td>0.00</td>\n",
       "      <td>0.00</td>\n",
       "      <td>0.00</td>\n",
       "      <td>3.00</td>\n",
       "      <td>11.10</td>\n",
       "      <td>793.42</td>\n",
       "      <td>0.000000</td>\n",
       "    </tr>\n",
       "    <tr>\n",
       "      <th>entrega_estimado_dias_atraso_mediana</th>\n",
       "      <td>0.00</td>\n",
       "      <td>0.00</td>\n",
       "      <td>0.00</td>\n",
       "      <td>0.00</td>\n",
       "      <td>0.00</td>\n",
       "      <td>0.00</td>\n",
       "      <td>0.00</td>\n",
       "      <td>0.00</td>\n",
       "      <td>0.00</td>\n",
       "      <td>0.00</td>\n",
       "      <td>0.00</td>\n",
       "      <td>0.00</td>\n",
       "      <td>0.00</td>\n",
       "      <td>0.00</td>\n",
       "      <td>6.00</td>\n",
       "      <td>21.03</td>\n",
       "      <td>1594.09</td>\n",
       "      <td>0.000000</td>\n",
       "    </tr>\n",
       "    <tr>\n",
       "      <th>PIB_percapita_(3285,11000]</th>\n",
       "      <td>0.00</td>\n",
       "      <td>0.15</td>\n",
       "      <td>0.00</td>\n",
       "      <td>0.15</td>\n",
       "      <td>0.00</td>\n",
       "      <td>0.12</td>\n",
       "      <td>1.00</td>\n",
       "      <td>5.62</td>\n",
       "      <td>1.00</td>\n",
       "      <td>1.96</td>\n",
       "      <td>1.00</td>\n",
       "      <td>4.14</td>\n",
       "      <td>1.00</td>\n",
       "      <td>3.63</td>\n",
       "      <td>0.00</td>\n",
       "      <td>0.24</td>\n",
       "      <td>1103.48</td>\n",
       "      <td>0.000000</td>\n",
       "    </tr>\n",
       "    <tr>\n",
       "      <th>qtd_mes_01</th>\n",
       "      <td>0.00</td>\n",
       "      <td>0.00</td>\n",
       "      <td>0.00</td>\n",
       "      <td>0.64</td>\n",
       "      <td>0.00</td>\n",
       "      <td>0.06</td>\n",
       "      <td>2.00</td>\n",
       "      <td>4.87</td>\n",
       "      <td>0.00</td>\n",
       "      <td>0.00</td>\n",
       "      <td>0.00</td>\n",
       "      <td>0.77</td>\n",
       "      <td>0.00</td>\n",
       "      <td>0.00</td>\n",
       "      <td>0.00</td>\n",
       "      <td>0.28</td>\n",
       "      <td>1423.28</td>\n",
       "      <td>0.000000</td>\n",
       "    </tr>\n",
       "    <tr>\n",
       "      <th>qtd_mes_02</th>\n",
       "      <td>0.00</td>\n",
       "      <td>0.09</td>\n",
       "      <td>0.00</td>\n",
       "      <td>0.66</td>\n",
       "      <td>0.00</td>\n",
       "      <td>0.85</td>\n",
       "      <td>3.00</td>\n",
       "      <td>7.46</td>\n",
       "      <td>0.00</td>\n",
       "      <td>0.40</td>\n",
       "      <td>2.00</td>\n",
       "      <td>4.84</td>\n",
       "      <td>0.00</td>\n",
       "      <td>0.10</td>\n",
       "      <td>0.00</td>\n",
       "      <td>0.24</td>\n",
       "      <td>958.64</td>\n",
       "      <td>0.000000</td>\n",
       "    </tr>\n",
       "    <tr>\n",
       "      <th>qtd_mes_04</th>\n",
       "      <td>0.00</td>\n",
       "      <td>0.10</td>\n",
       "      <td>0.00</td>\n",
       "      <td>0.20</td>\n",
       "      <td>0.00</td>\n",
       "      <td>1.17</td>\n",
       "      <td>2.00</td>\n",
       "      <td>10.23</td>\n",
       "      <td>0.00</td>\n",
       "      <td>0.36</td>\n",
       "      <td>3.00</td>\n",
       "      <td>7.19</td>\n",
       "      <td>1.00</td>\n",
       "      <td>3.21</td>\n",
       "      <td>0.00</td>\n",
       "      <td>0.39</td>\n",
       "      <td>905.84</td>\n",
       "      <td>0.000000</td>\n",
       "    </tr>\n",
       "    <tr>\n",
       "      <th>qtd_mes_06</th>\n",
       "      <td>0.00</td>\n",
       "      <td>0.84</td>\n",
       "      <td>0.00</td>\n",
       "      <td>0.19</td>\n",
       "      <td>1.00</td>\n",
       "      <td>1.62</td>\n",
       "      <td>3.00</td>\n",
       "      <td>14.25</td>\n",
       "      <td>0.00</td>\n",
       "      <td>0.69</td>\n",
       "      <td>3.00</td>\n",
       "      <td>9.88</td>\n",
       "      <td>4.00</td>\n",
       "      <td>9.17</td>\n",
       "      <td>0.00</td>\n",
       "      <td>0.50</td>\n",
       "      <td>833.04</td>\n",
       "      <td>0.000000</td>\n",
       "    </tr>\n",
       "    <tr>\n",
       "      <th>qtd_mes_12</th>\n",
       "      <td>2.00</td>\n",
       "      <td>5.78</td>\n",
       "      <td>0.00</td>\n",
       "      <td>0.49</td>\n",
       "      <td>0.00</td>\n",
       "      <td>1.06</td>\n",
       "      <td>1.00</td>\n",
       "      <td>17.01</td>\n",
       "      <td>2.00</td>\n",
       "      <td>14.51</td>\n",
       "      <td>2.00</td>\n",
       "      <td>18.29</td>\n",
       "      <td>3.00</td>\n",
       "      <td>19.92</td>\n",
       "      <td>0.00</td>\n",
       "      <td>0.46</td>\n",
       "      <td>512.52</td>\n",
       "      <td>0.000000</td>\n",
       "    </tr>\n",
       "    <tr>\n",
       "      <th>lucro</th>\n",
       "      <td>-178.85</td>\n",
       "      <td>245.59</td>\n",
       "      <td>-103.95</td>\n",
       "      <td>135.92</td>\n",
       "      <td>-121.09</td>\n",
       "      <td>289.94</td>\n",
       "      <td>224.93</td>\n",
       "      <td>2225.63</td>\n",
       "      <td>-166.54</td>\n",
       "      <td>433.41</td>\n",
       "      <td>281.68</td>\n",
       "      <td>942.08</td>\n",
       "      <td>179.90</td>\n",
       "      <td>2076.77</td>\n",
       "      <td>-134.87</td>\n",
       "      <td>78.30</td>\n",
       "      <td>257.60</td>\n",
       "      <td>0.000000</td>\n",
       "    </tr>\n",
       "    <tr>\n",
       "      <th>dias_entre_pedidos</th>\n",
       "      <td>11.00</td>\n",
       "      <td>13.60</td>\n",
       "      <td>1.00</td>\n",
       "      <td>3.41</td>\n",
       "      <td>21.00</td>\n",
       "      <td>20.84</td>\n",
       "      <td>8.00</td>\n",
       "      <td>12.47</td>\n",
       "      <td>7.00</td>\n",
       "      <td>11.65</td>\n",
       "      <td>8.00</td>\n",
       "      <td>7.73</td>\n",
       "      <td>5.00</td>\n",
       "      <td>8.45</td>\n",
       "      <td>1.00</td>\n",
       "      <td>20.16</td>\n",
       "      <td>811.44</td>\n",
       "      <td>0.000000</td>\n",
       "    </tr>\n",
       "  </tbody>\n",
       "</table>\n",
       "</div>"
      ],
      "text/plain": [
       "                                               med_0    std_0    med_1  \\\n",
       "distancia_cliente_vendedor_mediana            422.51   331.47   469.93   \n",
       "produto_peso_g_mediana                        712.00  4040.81   800.00   \n",
       "habit_km2_mediana                            2011.56  2267.82  1403.95   \n",
       "postagem_limiteparceiro_variacao_mediana       -4.00     2.06    -4.00   \n",
       "postagem_limiteparceiro_dias_atraso_mediana     0.00     0.30     0.00   \n",
       "entrega_estimado_dias_atraso_mediana            0.00     0.00     0.00   \n",
       "PIB_percapita_(3285,11000]                      0.00     0.15     0.00   \n",
       "qtd_mes_01                                      0.00     0.00     0.00   \n",
       "qtd_mes_02                                      0.00     0.09     0.00   \n",
       "qtd_mes_04                                      0.00     0.10     0.00   \n",
       "qtd_mes_06                                      0.00     0.84     0.00   \n",
       "qtd_mes_12                                      2.00     5.78     0.00   \n",
       "lucro                                        -178.85   245.59  -103.95   \n",
       "dias_entre_pedidos                             11.00    13.60     1.00   \n",
       "\n",
       "                                               std_1   med_2    std_2   med_3  \\\n",
       "distancia_cliente_vendedor_mediana            572.85  446.86   366.64  436.21   \n",
       "produto_peso_g_mediana                       5615.99  850.00  4132.05  750.00   \n",
       "habit_km2_mediana                            2847.38  961.92  2056.06  917.79   \n",
       "postagem_limiteparceiro_variacao_mediana        3.29   -4.00     3.87   -4.00   \n",
       "postagem_limiteparceiro_dias_atraso_mediana     0.00    0.00     0.00    0.00   \n",
       "entrega_estimado_dias_atraso_mediana            0.00    0.00     0.00    0.00   \n",
       "PIB_percapita_(3285,11000]                      0.15    0.00     0.12    1.00   \n",
       "qtd_mes_01                                      0.64    0.00     0.06    2.00   \n",
       "qtd_mes_02                                      0.66    0.00     0.85    3.00   \n",
       "qtd_mes_04                                      0.20    0.00     1.17    2.00   \n",
       "qtd_mes_06                                      0.19    1.00     1.62    3.00   \n",
       "qtd_mes_12                                      0.49    0.00     1.06    1.00   \n",
       "lucro                                         135.92 -121.09   289.94  224.93   \n",
       "dias_entre_pedidos                              3.41   21.00    20.84    8.00   \n",
       "\n",
       "                                               std_3   med_4    std_4  \\\n",
       "distancia_cliente_vendedor_mediana            254.53  525.55   560.81   \n",
       "produto_peso_g_mediana                       2489.50  500.00  2734.43   \n",
       "habit_km2_mediana                            1560.33  885.00  1661.56   \n",
       "postagem_limiteparceiro_variacao_mediana        1.75   -4.00     1.89   \n",
       "postagem_limiteparceiro_dias_atraso_mediana     0.00    0.00     0.00   \n",
       "entrega_estimado_dias_atraso_mediana            0.00    0.00     0.00   \n",
       "PIB_percapita_(3285,11000]                      5.62    1.00     1.96   \n",
       "qtd_mes_01                                      4.87    0.00     0.00   \n",
       "qtd_mes_02                                      7.46    0.00     0.40   \n",
       "qtd_mes_04                                     10.23    0.00     0.36   \n",
       "qtd_mes_06                                     14.25    0.00     0.69   \n",
       "qtd_mes_12                                     17.01    2.00    14.51   \n",
       "lucro                                        2225.63 -166.54   433.41   \n",
       "dias_entre_pedidos                             12.47    7.00    11.65   \n",
       "\n",
       "                                               med_5    std_5    med_6  \\\n",
       "distancia_cliente_vendedor_mediana            405.14   179.52   475.64   \n",
       "produto_peso_g_mediana                        650.00  2699.50  1050.00   \n",
       "habit_km2_mediana                            1045.77  1207.61   933.72   \n",
       "postagem_limiteparceiro_variacao_mediana       -4.00     1.67    -4.00   \n",
       "postagem_limiteparceiro_dias_atraso_mediana     0.00     0.00     0.00   \n",
       "entrega_estimado_dias_atraso_mediana            0.00     0.00     0.00   \n",
       "PIB_percapita_(3285,11000]                      1.00     4.14     1.00   \n",
       "qtd_mes_01                                      0.00     0.77     0.00   \n",
       "qtd_mes_02                                      2.00     4.84     0.00   \n",
       "qtd_mes_04                                      3.00     7.19     1.00   \n",
       "qtd_mes_06                                      3.00     9.88     4.00   \n",
       "qtd_mes_12                                      2.00    18.29     3.00   \n",
       "lucro                                         281.68   942.08   179.90   \n",
       "dias_entre_pedidos                              8.00     7.73     5.00   \n",
       "\n",
       "                                               std_6    med_7    std_7  \\\n",
       "distancia_cliente_vendedor_mediana            205.33   495.79   629.29   \n",
       "produto_peso_g_mediana                       2596.00  1100.00  4367.02   \n",
       "habit_km2_mediana                             882.01  1573.00  2437.79   \n",
       "postagem_limiteparceiro_variacao_mediana        1.68     1.00    12.35   \n",
       "postagem_limiteparceiro_dias_atraso_mediana     0.00     3.00    11.10   \n",
       "entrega_estimado_dias_atraso_mediana            0.00     6.00    21.03   \n",
       "PIB_percapita_(3285,11000]                      3.63     0.00     0.24   \n",
       "qtd_mes_01                                      0.00     0.00     0.28   \n",
       "qtd_mes_02                                      0.10     0.00     0.24   \n",
       "qtd_mes_04                                      3.21     0.00     0.39   \n",
       "qtd_mes_06                                      9.17     0.00     0.50   \n",
       "qtd_mes_12                                     19.92     0.00     0.46   \n",
       "lucro                                        2076.77  -134.87    78.30   \n",
       "dias_entre_pedidos                              8.45     1.00    20.16   \n",
       "\n",
       "                                                   t         p  \n",
       "distancia_cliente_vendedor_mediana             34.33  0.000015  \n",
       "produto_peso_g_mediana                         19.32  0.007235  \n",
       "habit_km2_mediana                              65.54  0.000000  \n",
       "postagem_limiteparceiro_variacao_mediana       95.03  0.000000  \n",
       "postagem_limiteparceiro_dias_atraso_mediana   793.42  0.000000  \n",
       "entrega_estimado_dias_atraso_mediana         1594.09  0.000000  \n",
       "PIB_percapita_(3285,11000]                   1103.48  0.000000  \n",
       "qtd_mes_01                                   1423.28  0.000000  \n",
       "qtd_mes_02                                    958.64  0.000000  \n",
       "qtd_mes_04                                    905.84  0.000000  \n",
       "qtd_mes_06                                    833.04  0.000000  \n",
       "qtd_mes_12                                    512.52  0.000000  \n",
       "lucro                                         257.60  0.000000  \n",
       "dias_entre_pedidos                            811.44  0.000000  "
      ]
     },
     "execution_count": 58,
     "metadata": {},
     "output_type": "execute_result"
    }
   ],
   "source": [
    "df_teste_kruskal[~(df_teste_kruskal['p']>0.05)]"
   ]
  },
  {
   "cell_type": "code",
   "execution_count": 59,
   "metadata": {},
   "outputs": [
    {
     "data": {
      "text/plain": [
       "'\\nAs features:\\n-Area(km2)_mediana\\n-vlr_medio_pedido\\nComo falha a Hipótese H0, estas features não são significativas para o modelo.\\n'"
      ]
     },
     "execution_count": 59,
     "metadata": {},
     "output_type": "execute_result"
    }
   ],
   "source": [
    "\"\"\"\n",
    "As features:\n",
    "-Area(km2)_mediana\n",
    "-vlr_medio_pedido\n",
    "Como falha a Hipótese H0, estas features não são significativas para o modelo.\n",
    "\"\"\""
   ]
  },
  {
   "cell_type": "code",
   "execution_count": 60,
   "metadata": {},
   "outputs": [
    {
     "data": {
      "text/plain": [
       "produto_peso_g_mediana                         1.804318e+07\n",
       "habit_km2_mediana                              5.066689e+06\n",
       "Area(km2)_mediana                              1.147510e+06\n",
       "lucro                                          1.065012e+06\n",
       "distancia_cliente_vendedor_mediana             1.864502e+05\n",
       "vlr_medio_pedido                               2.904588e+04\n",
       "dias_entre_pedidos                             2.512773e+02\n",
       "qtd_mes_12                                     1.124780e+02\n",
       "produto_categoria_id_moda                      9.793161e+01\n",
       "qtd_mes_06                                     4.208594e+01\n",
       "entrega_estimado_dias_atraso_mediana           2.125638e+01\n",
       "qtd_mes_04                                     2.057882e+01\n",
       "postagem_limiteparceiro_variacao_mediana       1.838219e+01\n",
       "qtd_mes_02                                     1.122941e+01\n",
       "postagem_limiteparceiro_dias_atraso_mediana    7.469928e+00\n",
       "PIB_percapita_(3285,11000]                     6.942888e+00\n",
       "cluster                                        5.273533e+00\n",
       "qtd_mes_01                                     4.519508e+00\n",
       "dtype: float64"
      ]
     },
     "execution_count": 60,
     "metadata": {},
     "output_type": "execute_result"
    }
   ],
   "source": [
    "df_abt_ms.var().sort_values(ascending=False)"
   ]
  },
  {
   "cell_type": "code",
   "execution_count": 61,
   "metadata": {},
   "outputs": [],
   "source": [
    "features_todas=['distancia_cliente_vendedor_mediana', 'produto_categoria_id_moda', 'habit_km2_mediana',\n",
    "                'postagem_limiteparceiro_variacao_mediana', 'postagem_limiteparceiro_dias_atraso_mediana',\n",
    "                'entrega_estimado_dias_atraso_mediana','PIB_percapita_(3285,11000]','qtd_mes_01','qtd_mes_02',\n",
    "                'qtd_mes_04','qtd_mes_06','qtd_mes_12','lucro','dias_entre_pedidos','produto_peso_g_mediana']\n",
    "\n",
    "features_cluster=['cluster']\n",
    "features_relevantes_moda=['produto_categoria_id_moda']\n",
    "features_relevantes_mediana=['habit_km2_mediana','distancia_cliente_vendedor_mediana','entrega_estimado_dias_atraso_mediana',\n",
    "            'produto_peso_g_mediana']\n",
    "features_relevantes=['lucro','dias_entre_pedidos','qtd_mes_04','qtd_mes_06','qtd_mes_12']\n",
    "features_moda=['produto_categoria_id_moda']\n",
    "features_moda2=['vendedor_cidade', 'vendedor_estado','vendedor_grande_regiao_nome', 'plano', 'produto_categoria_nome_moda']\n",
    "subcabecalho=['Lucro','Dias entre pedidos','Pedidos em Abril','Pedidos em Junho','Pedidos em Dezembro']\n",
    "subcabecalho2=['Habitantes por km2','Distância entre cliente e vendedor','Dias de Atraso entre entrega e data estimada','Peso produto(g)']\n",
    "subcabecalho3=['Cidade do Vendedor','Estado do Vendedor','Região do Vendedor','Plano da Olist','Categorias dos Produtos']\n",
    "features_moda=['produto_categoria_id_moda']\n",
    "  \n"
   ]
  },
  {
   "cell_type": "code",
   "execution_count": 66,
   "metadata": {
    "scrolled": false
   },
   "outputs": [
    {
     "data": {
      "text/plain": [
       "count     393.000000\n",
       "mean     -152.474122\n",
       "std       245.592013\n",
       "min     -1336.380000\n",
       "25%      -250.770000\n",
       "50%      -178.850000\n",
       "75%      -108.820000\n",
       "max      2248.800000\n",
       "Name: lucro, dtype: float64"
      ]
     },
     "metadata": {},
     "output_type": "display_data"
    },
    {
     "data": {
      "text/plain": [
       "count     346.000000\n",
       "mean      -95.271387\n",
       "std       135.916135\n",
       "min      -360.740000\n",
       "25%      -129.812500\n",
       "50%      -103.950000\n",
       "75%       -92.205000\n",
       "max      1958.580000\n",
       "Name: lucro, dtype: float64"
      ]
     },
     "metadata": {},
     "output_type": "display_data"
    },
    {
     "data": {
      "text/plain": [
       "count     265.000000\n",
       "mean      -56.600151\n",
       "std       289.940324\n",
       "min      -530.240000\n",
       "25%      -182.560000\n",
       "50%      -121.090000\n",
       "75%       -28.790000\n",
       "max      2835.290000\n",
       "Name: lucro, dtype: float64"
      ]
     },
     "metadata": {},
     "output_type": "display_data"
    },
    {
     "data": {
      "text/plain": [
       "count      181.000000\n",
       "mean       962.945193\n",
       "std       2225.628443\n",
       "min       -596.430000\n",
       "25%       -159.740000\n",
       "50%        224.930000\n",
       "75%       1426.680000\n",
       "max      19108.440000\n",
       "Name: lucro, dtype: float64"
      ]
     },
     "metadata": {},
     "output_type": "display_data"
    },
    {
     "data": {
      "text/plain": [
       "count     138.000000\n",
       "mean      -71.074058\n",
       "std       433.405423\n",
       "min      -552.660000\n",
       "25%      -283.322500\n",
       "50%      -166.540000\n",
       "75%       -33.422500\n",
       "max      2193.630000\n",
       "Name: lucro, dtype: float64"
      ]
     },
     "metadata": {},
     "output_type": "display_data"
    },
    {
     "data": {
      "text/plain": [
       "count     109.000000\n",
       "mean      549.335138\n",
       "std       942.076266\n",
       "min      -785.190000\n",
       "25%      -190.230000\n",
       "50%       281.680000\n",
       "75%      1115.470000\n",
       "max      4066.380000\n",
       "Name: lucro, dtype: float64"
      ]
     },
     "metadata": {},
     "output_type": "display_data"
    },
    {
     "data": {
      "text/plain": [
       "count       99.000000\n",
       "mean       905.530707\n",
       "std       2076.768709\n",
       "min       -524.040000\n",
       "25%       -106.710000\n",
       "50%        179.900000\n",
       "75%       1104.870000\n",
       "max      15396.170000\n",
       "Name: lucro, dtype: float64"
      ]
     },
     "metadata": {},
     "output_type": "display_data"
    },
    {
     "data": {
      "text/plain": [
       "count     65.000000\n",
       "mean    -127.559231\n",
       "std       78.300261\n",
       "min     -323.280000\n",
       "25%     -156.170000\n",
       "50%     -134.870000\n",
       "75%     -103.640000\n",
       "max      150.620000\n",
       "Name: lucro, dtype: float64"
      ]
     },
     "metadata": {},
     "output_type": "display_data"
    },
    {
     "data": {
      "image/png": "[encoded data removed]",
      "text/plain": [
       "<Figure size 576x396 with 1 Axes>"
      ]
     },
     "metadata": {},
     "output_type": "display_data"
    },
    {
     "data": {
      "text/plain": [
       "count    393.000000\n",
       "mean      14.885496\n",
       "std       13.596579\n",
       "min        1.000000\n",
       "25%        6.000000\n",
       "50%       11.000000\n",
       "75%       19.000000\n",
       "max      106.000000\n",
       "Name: dias_entre_pedidos, dtype: float64"
      ]
     },
     "metadata": {},
     "output_type": "display_data"
    },
    {
     "data": {
      "text/plain": [
       "count    346.000000\n",
       "mean       2.153179\n",
       "std        3.411354\n",
       "min        1.000000\n",
       "25%        1.000000\n",
       "50%        1.000000\n",
       "75%        1.000000\n",
       "max       34.000000\n",
       "Name: dias_entre_pedidos, dtype: float64"
      ]
     },
     "metadata": {},
     "output_type": "display_data"
    },
    {
     "data": {
      "text/plain": [
       "count    265.000000\n",
       "mean      28.505660\n",
       "std       20.842687\n",
       "min        2.000000\n",
       "25%       13.000000\n",
       "50%       21.000000\n",
       "75%       37.000000\n",
       "max      128.000000\n",
       "Name: dias_entre_pedidos, dtype: float64"
      ]
     },
     "metadata": {},
     "output_type": "display_data"
    },
    {
     "data": {
      "text/plain": [
       "count    181.000000\n",
       "mean      11.497238\n",
       "std       12.465341\n",
       "min        1.000000\n",
       "25%        4.000000\n",
       "50%        8.000000\n",
       "75%       14.000000\n",
       "max       93.000000\n",
       "Name: dias_entre_pedidos, dtype: float64"
      ]
     },
     "metadata": {},
     "output_type": "display_data"
    },
    {
     "data": {
      "text/plain": [
       "count    138.000000\n",
       "mean      12.217391\n",
       "std       11.645455\n",
       "min        1.000000\n",
       "25%        4.000000\n",
       "50%        7.000000\n",
       "75%       15.750000\n",
       "max       63.000000\n",
       "Name: dias_entre_pedidos, dtype: float64"
      ]
     },
     "metadata": {},
     "output_type": "display_data"
    },
    {
     "data": {
      "text/plain": [
       "count    109.000000\n",
       "mean       9.834862\n",
       "std        7.726234\n",
       "min        1.000000\n",
       "25%        4.000000\n",
       "50%        8.000000\n",
       "75%       14.000000\n",
       "max       44.000000\n",
       "Name: dias_entre_pedidos, dtype: float64"
      ]
     },
     "metadata": {},
     "output_type": "display_data"
    },
    {
     "data": {
      "text/plain": [
       "count    99.000000\n",
       "mean      7.898990\n",
       "std       8.448518\n",
       "min       1.000000\n",
       "25%       3.000000\n",
       "50%       5.000000\n",
       "75%       9.500000\n",
       "max      57.000000\n",
       "Name: dias_entre_pedidos, dtype: float64"
      ]
     },
     "metadata": {},
     "output_type": "display_data"
    },
    {
     "data": {
      "text/plain": [
       "count    65.000000\n",
       "mean     10.276923\n",
       "std      20.159139\n",
       "min       1.000000\n",
       "25%       1.000000\n",
       "50%       1.000000\n",
       "75%       7.000000\n",
       "max      98.000000\n",
       "Name: dias_entre_pedidos, dtype: float64"
      ]
     },
     "metadata": {},
     "output_type": "display_data"
    },
    {
     "data": {
      "image/png": "[encoded data removed]",
      "text/plain": [
       "<Figure size 576x396 with 1 Axes>"
      ]
     },
     "metadata": {},
     "output_type": "display_data"
    },
    {
     "data": {
      "text/plain": [
       "count    393.000000\n",
       "mean       0.010178\n",
       "std        0.100500\n",
       "min        0.000000\n",
       "25%        0.000000\n",
       "50%        0.000000\n",
       "75%        0.000000\n",
       "max        1.000000\n",
       "Name: qtd_mes_04, dtype: float64"
      ]
     },
     "metadata": {},
     "output_type": "display_data"
    },
    {
     "data": {
      "text/plain": [
       "count    346.000000\n",
       "mean       0.034682\n",
       "std        0.198427\n",
       "min        0.000000\n",
       "25%        0.000000\n",
       "50%        0.000000\n",
       "75%        0.000000\n",
       "max        2.000000\n",
       "Name: qtd_mes_04, dtype: float64"
      ]
     },
     "metadata": {},
     "output_type": "display_data"
    },
    {
     "data": {
      "text/plain": [
       "count    265.000000\n",
       "mean       0.773585\n",
       "std        1.174887\n",
       "min        0.000000\n",
       "25%        0.000000\n",
       "50%        0.000000\n",
       "75%        1.000000\n",
       "max        9.000000\n",
       "Name: qtd_mes_04, dtype: float64"
      ]
     },
     "metadata": {},
     "output_type": "display_data"
    },
    {
     "data": {
      "text/plain": [
       "count    181.000000\n",
       "mean       6.077348\n",
       "std       10.234179\n",
       "min        0.000000\n",
       "25%        0.000000\n",
       "50%        2.000000\n",
       "75%        7.000000\n",
       "max       73.000000\n",
       "Name: qtd_mes_04, dtype: float64"
      ]
     },
     "metadata": {},
     "output_type": "display_data"
    },
    {
     "data": {
      "text/plain": [
       "count    138.000000\n",
       "mean       0.072464\n",
       "std        0.355102\n",
       "min        0.000000\n",
       "25%        0.000000\n",
       "50%        0.000000\n",
       "75%        0.000000\n",
       "max        3.000000\n",
       "Name: qtd_mes_04, dtype: float64"
      ]
     },
     "metadata": {},
     "output_type": "display_data"
    },
    {
     "data": {
      "text/plain": [
       "count    109.000000\n",
       "mean       5.926606\n",
       "std        7.188863\n",
       "min        0.000000\n",
       "25%        2.000000\n",
       "50%        3.000000\n",
       "75%        7.000000\n",
       "max       39.000000\n",
       "Name: qtd_mes_04, dtype: float64"
      ]
     },
     "metadata": {},
     "output_type": "display_data"
    },
    {
     "data": {
      "text/plain": [
       "count    99.000000\n",
       "mean      2.414141\n",
       "std       3.210347\n",
       "min       0.000000\n",
       "25%       0.000000\n",
       "50%       1.000000\n",
       "75%       4.000000\n",
       "max      18.000000\n",
       "Name: qtd_mes_04, dtype: float64"
      ]
     },
     "metadata": {},
     "output_type": "display_data"
    },
    {
     "data": {
      "text/plain": [
       "count    65.000000\n",
       "mean      0.138462\n",
       "std       0.390389\n",
       "min       0.000000\n",
       "25%       0.000000\n",
       "50%       0.000000\n",
       "75%       0.000000\n",
       "max       2.000000\n",
       "Name: qtd_mes_04, dtype: float64"
      ]
     },
     "metadata": {},
     "output_type": "display_data"
    },
    {
     "data": {
      "image/png": "[encoded data removed]",
      "text/plain": [
       "<Figure size 576x396 with 1 Axes>"
      ]
     },
     "metadata": {},
     "output_type": "display_data"
    },
    {
     "data": {
      "text/plain": [
       "count    393.000000\n",
       "mean       0.129771\n",
       "std        0.842708\n",
       "min        0.000000\n",
       "25%        0.000000\n",
       "50%        0.000000\n",
       "75%        0.000000\n",
       "max       13.000000\n",
       "Name: qtd_mes_06, dtype: float64"
      ]
     },
     "metadata": {},
     "output_type": "display_data"
    },
    {
     "data": {
      "text/plain": [
       "count    346.000000\n",
       "mean       0.037572\n",
       "std        0.190435\n",
       "min        0.000000\n",
       "25%        0.000000\n",
       "50%        0.000000\n",
       "75%        0.000000\n",
       "max        1.000000\n",
       "Name: qtd_mes_06, dtype: float64"
      ]
     },
     "metadata": {},
     "output_type": "display_data"
    },
    {
     "data": {
      "text/plain": [
       "count    265.000000\n",
       "mean       1.030189\n",
       "std        1.618733\n",
       "min        0.000000\n",
       "25%        0.000000\n",
       "50%        1.000000\n",
       "75%        1.000000\n",
       "max       13.000000\n",
       "Name: qtd_mes_06, dtype: float64"
      ]
     },
     "metadata": {},
     "output_type": "display_data"
    },
    {
     "data": {
      "text/plain": [
       "count    181.000000\n",
       "mean       7.204420\n",
       "std       14.249257\n",
       "min        0.000000\n",
       "25%        0.000000\n",
       "50%        3.000000\n",
       "75%        8.000000\n",
       "max       99.000000\n",
       "Name: qtd_mes_06, dtype: float64"
      ]
     },
     "metadata": {},
     "output_type": "display_data"
    },
    {
     "data": {
      "text/plain": [
       "count    138.000000\n",
       "mean       0.202899\n",
       "std        0.685187\n",
       "min        0.000000\n",
       "25%        0.000000\n",
       "50%        0.000000\n",
       "75%        0.000000\n",
       "max        5.000000\n",
       "Name: qtd_mes_06, dtype: float64"
      ]
     },
     "metadata": {},
     "output_type": "display_data"
    },
    {
     "data": {
      "text/plain": [
       "count    109.000000\n",
       "mean       6.431193\n",
       "std        9.877366\n",
       "min        0.000000\n",
       "25%        1.000000\n",
       "50%        3.000000\n",
       "75%        6.000000\n",
       "max       58.000000\n",
       "Name: qtd_mes_06, dtype: float64"
      ]
     },
     "metadata": {},
     "output_type": "display_data"
    },
    {
     "data": {
      "text/plain": [
       "count    99.000000\n",
       "mean      6.989899\n",
       "std       9.173492\n",
       "min       0.000000\n",
       "25%       2.000000\n",
       "50%       4.000000\n",
       "75%       9.000000\n",
       "max      61.000000\n",
       "Name: qtd_mes_06, dtype: float64"
      ]
     },
     "metadata": {},
     "output_type": "display_data"
    },
    {
     "data": {
      "text/plain": [
       "count    65.000000\n",
       "mean      0.138462\n",
       "std       0.496139\n",
       "min       0.000000\n",
       "25%       0.000000\n",
       "50%       0.000000\n",
       "75%       0.000000\n",
       "max       3.000000\n",
       "Name: qtd_mes_06, dtype: float64"
      ]
     },
     "metadata": {},
     "output_type": "display_data"
    },
    {
     "data": {
      "image/png": "[encoded data removed]",
      "text/plain": [
       "<Figure size 576x396 with 1 Axes>"
      ]
     },
     "metadata": {},
     "output_type": "display_data"
    },
    {
     "data": {
      "text/plain": [
       "count    393.000000\n",
       "mean       3.101781\n",
       "std        5.779081\n",
       "min        0.000000\n",
       "25%        1.000000\n",
       "50%        2.000000\n",
       "75%        4.000000\n",
       "max       86.000000\n",
       "Name: qtd_mes_12, dtype: float64"
      ]
     },
     "metadata": {},
     "output_type": "display_data"
    },
    {
     "data": {
      "text/plain": [
       "count    346.000000\n",
       "mean       0.190751\n",
       "std        0.485770\n",
       "min        0.000000\n",
       "25%        0.000000\n",
       "50%        0.000000\n",
       "75%        0.000000\n",
       "max        3.000000\n",
       "Name: qtd_mes_12, dtype: float64"
      ]
     },
     "metadata": {},
     "output_type": "display_data"
    },
    {
     "data": {
      "text/plain": [
       "count    265.000000\n",
       "mean       0.524528\n",
       "std        1.059035\n",
       "min        0.000000\n",
       "25%        0.000000\n",
       "50%        0.000000\n",
       "75%        1.000000\n",
       "max        8.000000\n",
       "Name: qtd_mes_12, dtype: float64"
      ]
     },
     "metadata": {},
     "output_type": "display_data"
    },
    {
     "data": {
      "text/plain": [
       "count    181.000000\n",
       "mean       6.447514\n",
       "std       17.009271\n",
       "min        0.000000\n",
       "25%        0.000000\n",
       "50%        1.000000\n",
       "75%        7.000000\n",
       "max      174.000000\n",
       "Name: qtd_mes_12, dtype: float64"
      ]
     },
     "metadata": {},
     "output_type": "display_data"
    },
    {
     "data": {
      "text/plain": [
       "count    138.000000\n",
       "mean       6.572464\n",
       "std       14.511454\n",
       "min        0.000000\n",
       "25%        0.000000\n",
       "50%        2.000000\n",
       "75%        6.000000\n",
       "max      134.000000\n",
       "Name: qtd_mes_12, dtype: float64"
      ]
     },
     "metadata": {},
     "output_type": "display_data"
    },
    {
     "data": {
      "text/plain": [
       "count    109.000000\n",
       "mean       7.724771\n",
       "std       18.290289\n",
       "min        0.000000\n",
       "25%        1.000000\n",
       "50%        2.000000\n",
       "75%        7.000000\n",
       "max      129.000000\n",
       "Name: qtd_mes_12, dtype: float64"
      ]
     },
     "metadata": {},
     "output_type": "display_data"
    },
    {
     "data": {
      "text/plain": [
       "count     99.000000\n",
       "mean      10.050505\n",
       "std       19.923514\n",
       "min        0.000000\n",
       "25%        1.000000\n",
       "50%        3.000000\n",
       "75%       11.000000\n",
       "max      129.000000\n",
       "Name: qtd_mes_12, dtype: float64"
      ]
     },
     "metadata": {},
     "output_type": "display_data"
    },
    {
     "data": {
      "text/plain": [
       "count    65.000000\n",
       "mean      0.184615\n",
       "std       0.464095\n",
       "min       0.000000\n",
       "25%       0.000000\n",
       "50%       0.000000\n",
       "75%       0.000000\n",
       "max       2.000000\n",
       "Name: qtd_mes_12, dtype: float64"
      ]
     },
     "metadata": {},
     "output_type": "display_data"
    },
    {
     "data": {
      "image/png": "[encoded data removed]",
      "text/plain": [
       "<Figure size 576x396 with 1 Axes>"
      ]
     },
     "metadata": {},
     "output_type": "display_data"
    }
   ],
   "source": [
    "features=features_relevantes+features_cluster\n",
    "describe_clusters = df_abt_ms[features].groupby('cluster').mean()\n",
    "describe_clusters_2= round(describe_clusters/describe_clusters.sum()*100,2).reset_index()\n",
    "l=0\n",
    "for i in features_relevantes:\n",
    "    sumario = {}\n",
    "\n",
    "    for index in range(8):\n",
    "        sumario[index] = df_abt_ms[df_abt_ms['cluster'] == index][i].describe().T  \n",
    "    display(sumario[0],sumario[1],sumario[2],sumario[3],sumario[4],sumario[5],sumario[6],sumario[7])\n",
    "    ax=sns.barplot(x = describe_clusters_2.index, y = i,  data = describe_clusters_2)  \n",
    "    ax.set_xlabel('Clusters', fontsize = 12)\n",
    "    ax.set_ylabel(\"Porcentagem(%)\", fontsize = 12)\n",
    "\n",
    "    plt.bar_label(ax.containers[0],size=8,fmt='%.1f%%')   \n",
    "    plt.title(subcabecalho[l])\n",
    "    l+=1\n",
    "    plt.suptitle('Médias nos Clusters', fontsize = 18, fontname = 'monospace')\n",
    "    plt.show()\n"
   ]
  },
  {
   "cell_type": "code",
   "execution_count": 67,
   "metadata": {
    "scrolled": false
   },
   "outputs": [
    {
     "data": {
      "text/plain": [
       "count     393.000000\n",
       "mean     2693.720483\n",
       "std      2267.823654\n",
       "min        41.720000\n",
       "25%       796.740000\n",
       "50%      2011.560000\n",
       "75%      4227.730000\n",
       "max      8343.070000\n",
       "Name: habit_km2_mediana, dtype: float64"
      ]
     },
     "metadata": {},
     "output_type": "display_data"
    },
    {
     "data": {
      "text/plain": [
       "count      346.000000\n",
       "mean      2639.629928\n",
       "std       2847.376865\n",
       "min          0.790000\n",
       "25%        223.752500\n",
       "50%       1403.950000\n",
       "75%       4386.670000\n",
       "max      10744.310000\n",
       "Name: habit_km2_mediana, dtype: float64"
      ]
     },
     "metadata": {},
     "output_type": "display_data"
    },
    {
     "data": {
      "text/plain": [
       "count     265.000000\n",
       "mean     1889.105491\n",
       "std      2056.062910\n",
       "min        14.905000\n",
       "25%       408.885000\n",
       "50%       961.925000\n",
       "75%      2919.280000\n",
       "max      7959.270000\n",
       "Name: habit_km2_mediana, dtype: float64"
      ]
     },
     "metadata": {},
     "output_type": "display_data"
    },
    {
     "data": {
      "text/plain": [
       "count     181.000000\n",
       "mean     1506.135028\n",
       "std      1560.325482\n",
       "min        35.420000\n",
       "25%       525.860000\n",
       "50%       917.790000\n",
       "75%      1883.050000\n",
       "max      8151.170000\n",
       "Name: habit_km2_mediana, dtype: float64"
      ]
     },
     "metadata": {},
     "output_type": "display_data"
    },
    {
     "data": {
      "text/plain": [
       "count     138.000000\n",
       "mean     1487.483406\n",
       "std      1661.558545\n",
       "min        15.775000\n",
       "25%       409.146250\n",
       "50%       885.005000\n",
       "75%      1867.833750\n",
       "max      7959.270000\n",
       "Name: habit_km2_mediana, dtype: float64"
      ]
     },
     "metadata": {},
     "output_type": "display_data"
    },
    {
     "data": {
      "text/plain": [
       "count     109.000000\n",
       "mean     1414.176927\n",
       "std      1207.611748\n",
       "min       150.740000\n",
       "25%       598.160000\n",
       "50%      1045.770000\n",
       "75%      1488.140000\n",
       "max      5432.750000\n",
       "Name: habit_km2_mediana, dtype: float64"
      ]
     },
     "metadata": {},
     "output_type": "display_data"
    },
    {
     "data": {
      "text/plain": [
       "count      99.000000\n",
       "mean     1192.883232\n",
       "std       882.014408\n",
       "min        43.865000\n",
       "25%       525.860000\n",
       "50%       933.720000\n",
       "75%      1582.112500\n",
       "max      4227.730000\n",
       "Name: habit_km2_mediana, dtype: float64"
      ]
     },
     "metadata": {},
     "output_type": "display_data"
    },
    {
     "data": {
      "text/plain": [
       "count      65.000000\n",
       "mean     2561.295385\n",
       "std      2437.790387\n",
       "min         1.210000\n",
       "25%       512.450000\n",
       "50%      1573.000000\n",
       "75%      4263.730000\n",
       "max      7959.270000\n",
       "Name: habit_km2_mediana, dtype: float64"
      ]
     },
     "metadata": {},
     "output_type": "display_data"
    },
    {
     "data": {
      "image/png": "[encoded data removed]",
      "text/plain": [
       "<Figure size 576x396 with 1 Axes>"
      ]
     },
     "metadata": {},
     "output_type": "display_data"
    },
    {
     "data": {
      "text/plain": [
       "count     393.000000\n",
       "mean      474.228785\n",
       "std       331.471513\n",
       "min         2.396000\n",
       "25%       287.203000\n",
       "50%       422.510000\n",
       "75%       598.834000\n",
       "max      2976.892000\n",
       "Name: distancia_cliente_vendedor_mediana, dtype: float64"
      ]
     },
     "metadata": {},
     "output_type": "display_data"
    },
    {
     "data": {
      "text/plain": [
       "count     346.000000\n",
       "mean      615.795798\n",
       "std       572.852302\n",
       "min         1.057000\n",
       "25%       244.899750\n",
       "50%       469.932500\n",
       "75%       767.042750\n",
       "max      3016.675000\n",
       "Name: distancia_cliente_vendedor_mediana, dtype: float64"
      ]
     },
     "metadata": {},
     "output_type": "display_data"
    },
    {
     "data": {
      "text/plain": [
       "count     265.000000\n",
       "mean      532.062104\n",
       "std       366.636583\n",
       "min        13.986500\n",
       "25%       312.883000\n",
       "50%       446.865000\n",
       "75%       705.609500\n",
       "max      2400.492000\n",
       "Name: distancia_cliente_vendedor_mediana, dtype: float64"
      ]
     },
     "metadata": {},
     "output_type": "display_data"
    },
    {
     "data": {
      "text/plain": [
       "count     181.000000\n",
       "mean      498.260586\n",
       "std       254.533760\n",
       "min        63.628000\n",
       "25%       347.690000\n",
       "50%       436.214000\n",
       "75%       569.859000\n",
       "max      1567.722000\n",
       "Name: distancia_cliente_vendedor_mediana, dtype: float64"
      ]
     },
     "metadata": {},
     "output_type": "display_data"
    },
    {
     "data": {
      "text/plain": [
       "count     138.000000\n",
       "mean      742.878902\n",
       "std       560.809874\n",
       "min        36.583000\n",
       "25%       379.646375\n",
       "50%       525.550000\n",
       "75%       901.673000\n",
       "max      2838.216000\n",
       "Name: distancia_cliente_vendedor_mediana, dtype: float64"
      ]
     },
     "metadata": {},
     "output_type": "display_data"
    },
    {
     "data": {
      "text/plain": [
       "count    109.000000\n",
       "mean     441.977725\n",
       "std      179.517157\n",
       "min       34.174000\n",
       "25%      347.957000\n",
       "50%      405.144500\n",
       "75%      532.417000\n",
       "max      947.094000\n",
       "Name: distancia_cliente_vendedor_mediana, dtype: float64"
      ]
     },
     "metadata": {},
     "output_type": "display_data"
    },
    {
     "data": {
      "text/plain": [
       "count      99.000000\n",
       "mean      509.985449\n",
       "std       205.328161\n",
       "min       128.980000\n",
       "25%       368.111500\n",
       "50%       475.641000\n",
       "75%       606.252500\n",
       "max      1226.125000\n",
       "Name: distancia_cliente_vendedor_mediana, dtype: float64"
      ]
     },
     "metadata": {},
     "output_type": "display_data"
    },
    {
     "data": {
      "text/plain": [
       "count      65.000000\n",
       "mean      730.945215\n",
       "std       629.292343\n",
       "min        30.938000\n",
       "25%       334.417000\n",
       "50%       495.790000\n",
       "75%       910.142000\n",
       "max      2774.847000\n",
       "Name: distancia_cliente_vendedor_mediana, dtype: float64"
      ]
     },
     "metadata": {},
     "output_type": "display_data"
    },
    {
     "data": {
      "image/png": "[encoded data removed]",
      "text/plain": [
       "<Figure size 576x396 with 1 Axes>"
      ]
     },
     "metadata": {},
     "output_type": "display_data"
    },
    {
     "data": {
      "text/plain": [
       "count    393.0\n",
       "mean       0.0\n",
       "std        0.0\n",
       "min        0.0\n",
       "25%        0.0\n",
       "50%        0.0\n",
       "75%        0.0\n",
       "max        0.0\n",
       "Name: entrega_estimado_dias_atraso_mediana, dtype: float64"
      ]
     },
     "metadata": {},
     "output_type": "display_data"
    },
    {
     "data": {
      "text/plain": [
       "count    346.0\n",
       "mean       0.0\n",
       "std        0.0\n",
       "min        0.0\n",
       "25%        0.0\n",
       "50%        0.0\n",
       "75%        0.0\n",
       "max        0.0\n",
       "Name: entrega_estimado_dias_atraso_mediana, dtype: float64"
      ]
     },
     "metadata": {},
     "output_type": "display_data"
    },
    {
     "data": {
      "text/plain": [
       "count    265.0\n",
       "mean       0.0\n",
       "std        0.0\n",
       "min        0.0\n",
       "25%        0.0\n",
       "50%        0.0\n",
       "75%        0.0\n",
       "max        0.0\n",
       "Name: entrega_estimado_dias_atraso_mediana, dtype: float64"
      ]
     },
     "metadata": {},
     "output_type": "display_data"
    },
    {
     "data": {
      "text/plain": [
       "count    181.0\n",
       "mean       0.0\n",
       "std        0.0\n",
       "min        0.0\n",
       "25%        0.0\n",
       "50%        0.0\n",
       "75%        0.0\n",
       "max        0.0\n",
       "Name: entrega_estimado_dias_atraso_mediana, dtype: float64"
      ]
     },
     "metadata": {},
     "output_type": "display_data"
    },
    {
     "data": {
      "text/plain": [
       "count    138.0\n",
       "mean       0.0\n",
       "std        0.0\n",
       "min        0.0\n",
       "25%        0.0\n",
       "50%        0.0\n",
       "75%        0.0\n",
       "max        0.0\n",
       "Name: entrega_estimado_dias_atraso_mediana, dtype: float64"
      ]
     },
     "metadata": {},
     "output_type": "display_data"
    },
    {
     "data": {
      "text/plain": [
       "count    109.0\n",
       "mean       0.0\n",
       "std        0.0\n",
       "min        0.0\n",
       "25%        0.0\n",
       "50%        0.0\n",
       "75%        0.0\n",
       "max        0.0\n",
       "Name: entrega_estimado_dias_atraso_mediana, dtype: float64"
      ]
     },
     "metadata": {},
     "output_type": "display_data"
    },
    {
     "data": {
      "text/plain": [
       "count    99.0\n",
       "mean      0.0\n",
       "std       0.0\n",
       "min       0.0\n",
       "25%       0.0\n",
       "50%       0.0\n",
       "75%       0.0\n",
       "max       0.0\n",
       "Name: entrega_estimado_dias_atraso_mediana, dtype: float64"
      ]
     },
     "metadata": {},
     "output_type": "display_data"
    },
    {
     "data": {
      "text/plain": [
       "count     65.000000\n",
       "mean      10.523077\n",
       "std       21.030564\n",
       "min        1.000000\n",
       "25%        3.000000\n",
       "50%        6.000000\n",
       "75%       12.000000\n",
       "max      167.000000\n",
       "Name: entrega_estimado_dias_atraso_mediana, dtype: float64"
      ]
     },
     "metadata": {},
     "output_type": "display_data"
    },
    {
     "data": {
      "image/png": "[encoded data removed]",
      "text/plain": [
       "<Figure size 576x396 with 1 Axes>"
      ]
     },
     "metadata": {},
     "output_type": "display_data"
    },
    {
     "data": {
      "text/plain": [
       "count      393.000000\n",
       "mean      2222.938931\n",
       "std       4040.812812\n",
       "min         50.000000\n",
       "25%        390.000000\n",
       "50%        712.000000\n",
       "75%       1720.000000\n",
       "max      30000.000000\n",
       "Name: produto_peso_g_mediana, dtype: float64"
      ]
     },
     "metadata": {},
     "output_type": "display_data"
    },
    {
     "data": {
      "text/plain": [
       "count      346.000000\n",
       "mean      2985.645954\n",
       "std       5615.994676\n",
       "min         98.000000\n",
       "25%        400.000000\n",
       "50%        800.000000\n",
       "75%       2637.500000\n",
       "max      30000.000000\n",
       "Name: produto_peso_g_mediana, dtype: float64"
      ]
     },
     "metadata": {},
     "output_type": "display_data"
    },
    {
     "data": {
      "text/plain": [
       "count      265.000000\n",
       "mean      2436.471698\n",
       "std       4132.051354\n",
       "min        100.000000\n",
       "25%        400.000000\n",
       "50%        850.000000\n",
       "75%       2250.000000\n",
       "max      30000.000000\n",
       "Name: produto_peso_g_mediana, dtype: float64"
      ]
     },
     "metadata": {},
     "output_type": "display_data"
    },
    {
     "data": {
      "text/plain": [
       "count      181.000000\n",
       "mean      1672.483425\n",
       "std       2489.495814\n",
       "min         50.000000\n",
       "25%        400.000000\n",
       "50%        750.000000\n",
       "75%       1600.000000\n",
       "max      16100.000000\n",
       "Name: produto_peso_g_mediana, dtype: float64"
      ]
     },
     "metadata": {},
     "output_type": "display_data"
    },
    {
     "data": {
      "text/plain": [
       "count      138.000000\n",
       "mean      1595.938406\n",
       "std       2734.428102\n",
       "min         50.000000\n",
       "25%        300.000000\n",
       "50%        500.000000\n",
       "75%       1400.000000\n",
       "max      20700.000000\n",
       "Name: produto_peso_g_mediana, dtype: float64"
      ]
     },
     "metadata": {},
     "output_type": "display_data"
    },
    {
     "data": {
      "text/plain": [
       "count      109.00000\n",
       "mean      1647.87156\n",
       "std       2699.50086\n",
       "min        100.00000\n",
       "25%        300.00000\n",
       "50%        650.00000\n",
       "75%       1700.00000\n",
       "max      17600.00000\n",
       "Name: produto_peso_g_mediana, dtype: float64"
      ]
     },
     "metadata": {},
     "output_type": "display_data"
    },
    {
     "data": {
      "text/plain": [
       "count       99.000000\n",
       "mean      1998.974747\n",
       "std       2596.001345\n",
       "min        138.000000\n",
       "25%        459.500000\n",
       "50%       1050.000000\n",
       "75%       1900.000000\n",
       "max      15350.000000\n",
       "Name: produto_peso_g_mediana, dtype: float64"
      ]
     },
     "metadata": {},
     "output_type": "display_data"
    },
    {
     "data": {
      "text/plain": [
       "count       65.000000\n",
       "mean      2776.500000\n",
       "std       4367.024915\n",
       "min        175.000000\n",
       "25%        400.000000\n",
       "50%       1100.000000\n",
       "75%       2900.000000\n",
       "max      21400.000000\n",
       "Name: produto_peso_g_mediana, dtype: float64"
      ]
     },
     "metadata": {},
     "output_type": "display_data"
    },
    {
     "data": {
      "image/png": "[encoded data removed]",
      "text/plain": [
       "<Figure size 576x396 with 1 Axes>"
      ]
     },
     "metadata": {},
     "output_type": "display_data"
    }
   ],
   "source": [
    "features=features_relevantes_mediana+features_cluster\n",
    "describe_clusters = df_abt_ms[features].groupby('cluster').median()\n",
    "describe_clusters_2= round(describe_clusters/describe_clusters.sum()*100,2).reset_index()\n",
    "l=0\n",
    "for i in features_relevantes_mediana:\n",
    "    sumario = {}\n",
    "\n",
    "    for index in range(8):\n",
    "        sumario[index] = df_abt_ms[df_abt_ms['cluster'] == index][i].describe().T  \n",
    "    display(sumario[0],sumario[1],sumario[2],sumario[3],sumario[4],sumario[5],sumario[6],sumario[7])\n",
    " \n",
    "    ax=sns.barplot(x = describe_clusters_2.index, y = i,  data = describe_clusters_2)\n",
    "    ax.set_xlabel('Clusters', fontsize = 12)\n",
    "    ax.set_ylabel(\"Porcentagem(%)\", fontsize = 12)\n",
    "\n",
    "    plt.bar_label(ax.containers[0],size=8,fmt='%.1f%%') \n",
    "    plt.title(subcabecalho2[l])\n",
    "    l+=1\n",
    "    plt.suptitle('Medianas nos Clusters', fontsize = 18, fontname = 'monospace')\n",
    "    plt.show()\n"
   ]
  },
  {
   "cell_type": "code",
   "execution_count": 68,
   "metadata": {},
   "outputs": [
    {
     "data": {
      "image/png": "[encoded data removed]",
      "text/plain": [
       "<Figure size 576x396 with 1 Axes>"
      ]
     },
     "metadata": {},
     "output_type": "display_data"
    }
   ],
   "source": [
    "#Numero de vendedores por clusters\n",
    "df_vend=round(df_abt_ms['cluster'].value_counts(normalize=True)*100,2)\n",
    "df_vend=df_vend.reset_index()\n",
    "ax=sns.barplot(x = df_vend.index, y = 'cluster',  data = df_vend)  \n",
    "ax.set_xlabel('Clusters', fontsize = 12)\n",
    "ax.set_ylabel(\"Porcentagem(%)\", fontsize = 12)\n",
    "\n",
    "plt.bar_label(ax.containers[0],size=8,fmt='%.1f%%')   \n",
    "plt.suptitle('Número de Vendedores por Cluster', fontsize = 18, fontname = 'monospace')\n",
    "\n",
    "plt.show()\n"
   ]
  },
  {
   "cell_type": "markdown",
   "metadata": {},
   "source": [
    "## <a class=\"anchor\" id=\"limpa\">2. Olist deve remover vendedores de baixo desempenho de seu mercado?</a>\n",
    "[Retorna ao Indice](#etapas)"
   ]
  },
  {
   "cell_type": "code",
   "execution_count": 71,
   "metadata": {
    "scrolled": true
   },
   "outputs": [
    {
     "data": {
      "text/html": [
       "<div>\n",
       "<style scoped>\n",
       "    .dataframe tbody tr th:only-of-type {\n",
       "        vertical-align: middle;\n",
       "    }\n",
       "\n",
       "    .dataframe tbody tr th {\n",
       "        vertical-align: top;\n",
       "    }\n",
       "\n",
       "    .dataframe thead th {\n",
       "        text-align: right;\n",
       "    }\n",
       "</style>\n",
       "<table border=\"1\" class=\"dataframe\">\n",
       "  <thead>\n",
       "    <tr style=\"text-align: right;\">\n",
       "      <th></th>\n",
       "      <th>vendedor_id</th>\n",
       "      <th>lucro</th>\n",
       "    </tr>\n",
       "  </thead>\n",
       "  <tbody>\n",
       "    <tr>\n",
       "      <th>837</th>\n",
       "      <td>7e93a43ef30c4f03f38b393420bc753a</td>\n",
       "      <td>19108.44</td>\n",
       "    </tr>\n",
       "    <tr>\n",
       "      <th>548</th>\n",
       "      <td>53243585a1d6dc2643021fd1853d8905</td>\n",
       "      <td>15396.17</td>\n",
       "    </tr>\n",
       "    <tr>\n",
       "      <th>1619</th>\n",
       "      <td>fa1c13f2614d7b5c4749cbc52fecda94</td>\n",
       "      <td>12409.17</td>\n",
       "    </tr>\n",
       "    <tr>\n",
       "      <th>467</th>\n",
       "      <td>46dc3b2cc0980fb8ec44634e21d2718e</td>\n",
       "      <td>11007.82</td>\n",
       "    </tr>\n",
       "    <tr>\n",
       "      <th>476</th>\n",
       "      <td>4869f7a5dfa277a7dca6462dcf3b52b2</td>\n",
       "      <td>9538.71</td>\n",
       "    </tr>\n",
       "    <tr>\n",
       "      <th>811</th>\n",
       "      <td>7a67c85e85bb2ce8582c35f2203ad736</td>\n",
       "      <td>7382.95</td>\n",
       "    </tr>\n",
       "    <tr>\n",
       "      <th>640</th>\n",
       "      <td>620c87c171fb2a6dd6e8bb4dec959fc6</td>\n",
       "      <td>7088.82</td>\n",
       "    </tr>\n",
       "    <tr>\n",
       "      <th>1344</th>\n",
       "      <td>ccc4bbb5f32a6ab2b7066a4130f114e3</td>\n",
       "      <td>5517.09</td>\n",
       "    </tr>\n",
       "    <tr>\n",
       "      <th>609</th>\n",
       "      <td>5c243662ce92d84573bfaff24c3e3700</td>\n",
       "      <td>5162.72</td>\n",
       "    </tr>\n",
       "    <tr>\n",
       "      <th>371</th>\n",
       "      <td>37be5a7c751166fbc5f8ccba4119e043</td>\n",
       "      <td>5046.40</td>\n",
       "    </tr>\n",
       "    <tr>\n",
       "      <th>1642</th>\n",
       "      <td>fe2032dab1a61af8794248c8196565c9</td>\n",
       "      <td>4806.50</td>\n",
       "    </tr>\n",
       "    <tr>\n",
       "      <th>869</th>\n",
       "      <td>834f3294fba9f932f56edc879193f925</td>\n",
       "      <td>4524.17</td>\n",
       "    </tr>\n",
       "    <tr>\n",
       "      <th>485</th>\n",
       "      <td>4a3ca9315b744ce9f8e9374361493884</td>\n",
       "      <td>4221.09</td>\n",
       "    </tr>\n",
       "    <tr>\n",
       "      <th>880</th>\n",
       "      <td>850f4f8af5ea87287ac68de36e29107f</td>\n",
       "      <td>4102.72</td>\n",
       "    </tr>\n",
       "    <tr>\n",
       "      <th>1414</th>\n",
       "      <td>da8622b14eb17ae2831f4ac5b9dab84a</td>\n",
       "      <td>4066.38</td>\n",
       "    </tr>\n",
       "    <tr>\n",
       "      <th>620</th>\n",
       "      <td>5dceca129747e92ff8ef7a997dc4f8ca</td>\n",
       "      <td>4024.66</td>\n",
       "    </tr>\n",
       "    <tr>\n",
       "      <th>167</th>\n",
       "      <td>17e34d8224d27a541263c4c64b11a56b</td>\n",
       "      <td>3962.37</td>\n",
       "    </tr>\n",
       "    <tr>\n",
       "      <th>882</th>\n",
       "      <td>8581055ce74af1daba164fdbd55a40de</td>\n",
       "      <td>3751.17</td>\n",
       "    </tr>\n",
       "    <tr>\n",
       "      <th>1339</th>\n",
       "      <td>cc419e0650a3c5ba77189a1882b7556a</td>\n",
       "      <td>3599.15</td>\n",
       "    </tr>\n",
       "    <tr>\n",
       "      <th>219</th>\n",
       "      <td>1f50f920176fa81dab994f9023523100</td>\n",
       "      <td>3389.88</td>\n",
       "    </tr>\n",
       "    <tr>\n",
       "      <th>1280</th>\n",
       "      <td>c3cfdc648177fdbbbb35635a37472c53</td>\n",
       "      <td>3292.50</td>\n",
       "    </tr>\n",
       "    <tr>\n",
       "      <th>657</th>\n",
       "      <td>6560211a19b47992c3666cc44a7e94c0</td>\n",
       "      <td>3256.19</td>\n",
       "    </tr>\n",
       "    <tr>\n",
       "      <th>535</th>\n",
       "      <td>522620dcb18a6b31cd7bdf73665113a9</td>\n",
       "      <td>3249.57</td>\n",
       "    </tr>\n",
       "    <tr>\n",
       "      <th>1168</th>\n",
       "      <td>b2ba3715d723d245138f291a6fe42594</td>\n",
       "      <td>3246.81</td>\n",
       "    </tr>\n",
       "    <tr>\n",
       "      <th>784</th>\n",
       "      <td>76d5af76d0271110f9af36c92573f765</td>\n",
       "      <td>3206.88</td>\n",
       "    </tr>\n",
       "    <tr>\n",
       "      <th>1608</th>\n",
       "      <td>f8db351d8c4c4c22c6835c19a46f01b0</td>\n",
       "      <td>2992.22</td>\n",
       "    </tr>\n",
       "    <tr>\n",
       "      <th>260</th>\n",
       "      <td>25c5c91f63607446a97b143d2d535d31</td>\n",
       "      <td>2965.72</td>\n",
       "    </tr>\n",
       "    <tr>\n",
       "      <th>1530</th>\n",
       "      <td>eeb6de78f79159600292e314a77cbd18</td>\n",
       "      <td>2860.03</td>\n",
       "    </tr>\n",
       "    <tr>\n",
       "      <th>1026</th>\n",
       "      <td>9c0e69c7bf2619675bbadf47b43f655a</td>\n",
       "      <td>2835.29</td>\n",
       "    </tr>\n",
       "    <tr>\n",
       "      <th>590</th>\n",
       "      <td>59fb871bf6f4522a87ba567b42dafecf</td>\n",
       "      <td>2816.07</td>\n",
       "    </tr>\n",
       "    <tr>\n",
       "      <th>238</th>\n",
       "      <td>218d46b86c1881d022bce9c68a7d4b15</td>\n",
       "      <td>2696.90</td>\n",
       "    </tr>\n",
       "    <tr>\n",
       "      <th>1584</th>\n",
       "      <td>f5a590cf36251cf1162ea35bef76fe84</td>\n",
       "      <td>2578.35</td>\n",
       "    </tr>\n",
       "    <tr>\n",
       "      <th>1279</th>\n",
       "      <td>c3867b4666c7d76867627c2f7fb22e21</td>\n",
       "      <td>2506.16</td>\n",
       "    </tr>\n",
       "    <tr>\n",
       "      <th>131</th>\n",
       "      <td>12b9676b00f60f3b700e83af21824c0e</td>\n",
       "      <td>2504.71</td>\n",
       "    </tr>\n",
       "    <tr>\n",
       "      <th>1081</th>\n",
       "      <td>a416b6a846a11724393025641d4edd5e</td>\n",
       "      <td>2503.16</td>\n",
       "    </tr>\n",
       "    <tr>\n",
       "      <th>1620</th>\n",
       "      <td>fa40cc5b934574b62717c68f3d678b6d</td>\n",
       "      <td>2477.66</td>\n",
       "    </tr>\n",
       "    <tr>\n",
       "      <th>153</th>\n",
       "      <td>16090f2ca825584b5a147ab24aa30c86</td>\n",
       "      <td>2389.88</td>\n",
       "    </tr>\n",
       "    <tr>\n",
       "      <th>256</th>\n",
       "      <td>2528513dd95219a6013d4d05176e391a</td>\n",
       "      <td>2364.88</td>\n",
       "    </tr>\n",
       "    <tr>\n",
       "      <th>1525</th>\n",
       "      <td>edb1ef5e36e0c8cd84eb3c9b003e486d</td>\n",
       "      <td>2248.80</td>\n",
       "    </tr>\n",
       "    <tr>\n",
       "      <th>1173</th>\n",
       "      <td>b33e7c55446eabf8fe1a42d037ac7d6d</td>\n",
       "      <td>2193.63</td>\n",
       "    </tr>\n",
       "    <tr>\n",
       "      <th>1106</th>\n",
       "      <td>a888faf2d1baececa6baf9c3d603ee1f</td>\n",
       "      <td>2179.07</td>\n",
       "    </tr>\n",
       "    <tr>\n",
       "      <th>75</th>\n",
       "      <td>0adac9fbd9a2b63cccaac4f8756c1ca8</td>\n",
       "      <td>2085.71</td>\n",
       "    </tr>\n",
       "    <tr>\n",
       "      <th>1076</th>\n",
       "      <td>a3a38f4affed601eb87a97788c949667</td>\n",
       "      <td>2053.84</td>\n",
       "    </tr>\n",
       "    <tr>\n",
       "      <th>1341</th>\n",
       "      <td>cca3071e3e9bb7d12640c9fbe2301306</td>\n",
       "      <td>2049.12</td>\n",
       "    </tr>\n",
       "    <tr>\n",
       "      <th>413</th>\n",
       "      <td>3d871de0142ce09b7081e2b9d1733cb1</td>\n",
       "      <td>2033.84</td>\n",
       "    </tr>\n",
       "    <tr>\n",
       "      <th>1437</th>\n",
       "      <td>de23c3b98a88888289c6f5cc1209054a</td>\n",
       "      <td>2025.53</td>\n",
       "    </tr>\n",
       "    <tr>\n",
       "      <th>1501</th>\n",
       "      <td>e9bc59e7b60fc3063eb2290deda4cced</td>\n",
       "      <td>1996.82</td>\n",
       "    </tr>\n",
       "    <tr>\n",
       "      <th>1498</th>\n",
       "      <td>e9779976487b77c6d4ac45f75ec7afe9</td>\n",
       "      <td>1978.02</td>\n",
       "    </tr>\n",
       "    <tr>\n",
       "      <th>833</th>\n",
       "      <td>7e1fb0a3ebfb01ffb3a7dae98bf3238d</td>\n",
       "      <td>1976.03</td>\n",
       "    </tr>\n",
       "    <tr>\n",
       "      <th>1207</th>\n",
       "      <td>b94cc9f10ddc85e4ba73a6f7974e7101</td>\n",
       "      <td>1958.58</td>\n",
       "    </tr>\n",
       "    <tr>\n",
       "      <th>147</th>\n",
       "      <td>1554a68530182680ad5c8b042c3ab563</td>\n",
       "      <td>1938.02</td>\n",
       "    </tr>\n",
       "    <tr>\n",
       "      <th>976</th>\n",
       "      <td>94144541854e298c2d976cb893b81343</td>\n",
       "      <td>1933.11</td>\n",
       "    </tr>\n",
       "    <tr>\n",
       "      <th>756</th>\n",
       "      <td>7299e27ed73d2ad986de7f7c77d919fa</td>\n",
       "      <td>1921.11</td>\n",
       "    </tr>\n",
       "    <tr>\n",
       "      <th>745</th>\n",
       "      <td>712e6ed8aa4aa1fa65dab41fed5737e4</td>\n",
       "      <td>1915.44</td>\n",
       "    </tr>\n",
       "    <tr>\n",
       "      <th>42</th>\n",
       "      <td>05ff92fedb5be47920fea08e501238b9</td>\n",
       "      <td>1913.48</td>\n",
       "    </tr>\n",
       "    <tr>\n",
       "      <th>743</th>\n",
       "      <td>710e3548e02bc1d2831dfc4f1b5b14d4</td>\n",
       "      <td>1904.23</td>\n",
       "    </tr>\n",
       "    <tr>\n",
       "      <th>264</th>\n",
       "      <td>25e6ffe976bd75618accfe16cefcbd0d</td>\n",
       "      <td>1879.98</td>\n",
       "    </tr>\n",
       "    <tr>\n",
       "      <th>381</th>\n",
       "      <td>391fc6631aebcf3004804e51b40bcf1e</td>\n",
       "      <td>1855.09</td>\n",
       "    </tr>\n",
       "    <tr>\n",
       "      <th>1577</th>\n",
       "      <td>f45122a9ab94eb4f3f8953578bc0c560</td>\n",
       "      <td>1845.48</td>\n",
       "    </tr>\n",
       "    <tr>\n",
       "      <th>789</th>\n",
       "      <td>77530e9772f57a62c906e1c21538ab82</td>\n",
       "      <td>1834.18</td>\n",
       "    </tr>\n",
       "    <tr>\n",
       "      <th>877</th>\n",
       "      <td>8444e55c1f13cd5c179851e5ca5ebd00</td>\n",
       "      <td>1804.59</td>\n",
       "    </tr>\n",
       "    <tr>\n",
       "      <th>1040</th>\n",
       "      <td>9de4643a8dbde634fe55621059d92273</td>\n",
       "      <td>1729.74</td>\n",
       "    </tr>\n",
       "    <tr>\n",
       "      <th>1386</th>\n",
       "      <td>d50d79cb34e38265a8649c383dcffd48</td>\n",
       "      <td>1714.60</td>\n",
       "    </tr>\n",
       "    <tr>\n",
       "      <th>1349</th>\n",
       "      <td>cd68562d3f44870c08922d380acae552</td>\n",
       "      <td>1711.61</td>\n",
       "    </tr>\n",
       "    <tr>\n",
       "      <th>516</th>\n",
       "      <td>4e922959ae960d389249c378d1c939f5</td>\n",
       "      <td>1684.80</td>\n",
       "    </tr>\n",
       "    <tr>\n",
       "      <th>816</th>\n",
       "      <td>7b07b3c7487f0ea825fc6df75abd658b</td>\n",
       "      <td>1680.92</td>\n",
       "    </tr>\n",
       "    <tr>\n",
       "      <th>1250</th>\n",
       "      <td>bfd27a966d91cfaafdb25d076585f0da</td>\n",
       "      <td>1678.38</td>\n",
       "    </tr>\n",
       "    <tr>\n",
       "      <th>832</th>\n",
       "      <td>7ddcbb64b5bc1ef36ca8c151f6ec77df</td>\n",
       "      <td>1660.88</td>\n",
       "    </tr>\n",
       "    <tr>\n",
       "      <th>746</th>\n",
       "      <td>7142540dd4c91e2237acb7e911c4eba2</td>\n",
       "      <td>1651.43</td>\n",
       "    </tr>\n",
       "    <tr>\n",
       "      <th>559</th>\n",
       "      <td>54a1852d1b8f10312c55e906355666ee</td>\n",
       "      <td>1641.57</td>\n",
       "    </tr>\n",
       "    <tr>\n",
       "      <th>722</th>\n",
       "      <td>6edacfd9f9074789dad6d62ba7950b9c</td>\n",
       "      <td>1629.48</td>\n",
       "    </tr>\n",
       "    <tr>\n",
       "      <th>705</th>\n",
       "      <td>6cd68b3ed6d59aaa9fece558ad360c0a</td>\n",
       "      <td>1612.81</td>\n",
       "    </tr>\n",
       "    <tr>\n",
       "      <th>995</th>\n",
       "      <td>96493fab2fbb13a14d0c0e8772eef5c3</td>\n",
       "      <td>1612.35</td>\n",
       "    </tr>\n",
       "    <tr>\n",
       "      <th>765</th>\n",
       "      <td>744dac408745240a2c2528fb1b6028f3</td>\n",
       "      <td>1579.98</td>\n",
       "    </tr>\n",
       "    <tr>\n",
       "      <th>817</th>\n",
       "      <td>7b0df942f46435babab05d49b744b2c4</td>\n",
       "      <td>1569.06</td>\n",
       "    </tr>\n",
       "    <tr>\n",
       "      <th>1120</th>\n",
       "      <td>aafe36600ce604f205b86b5084d3d767</td>\n",
       "      <td>1560.80</td>\n",
       "    </tr>\n",
       "    <tr>\n",
       "      <th>669</th>\n",
       "      <td>669ae81880e08f269a64487cfb287169</td>\n",
       "      <td>1558.47</td>\n",
       "    </tr>\n",
       "    <tr>\n",
       "      <th>104</th>\n",
       "      <td>0ea22c1cfbdc755f86b9b54b39c16043</td>\n",
       "      <td>1557.03</td>\n",
       "    </tr>\n",
       "    <tr>\n",
       "      <th>1419</th>\n",
       "      <td>dbb9b48c841a0e39e21f98e1a6b2ec3e</td>\n",
       "      <td>1553.16</td>\n",
       "    </tr>\n",
       "    <tr>\n",
       "      <th>755</th>\n",
       "      <td>725c32fa80c2faacc4fc88450d27314e</td>\n",
       "      <td>1541.95</td>\n",
       "    </tr>\n",
       "    <tr>\n",
       "      <th>438</th>\n",
       "      <td>41b39e28db005d9731d9d485a83b4c38</td>\n",
       "      <td>1539.20</td>\n",
       "    </tr>\n",
       "    <tr>\n",
       "      <th>1307</th>\n",
       "      <td>c847e075301870dd144a116762eaff9a</td>\n",
       "      <td>1472.43</td>\n",
       "    </tr>\n",
       "    <tr>\n",
       "      <th>1324</th>\n",
       "      <td>cab85505710c7cb9b720bceb52b01cee</td>\n",
       "      <td>1468.61</td>\n",
       "    </tr>\n",
       "    <tr>\n",
       "      <th>1401</th>\n",
       "      <td>d91fb3b7d041e83b64a00a3edfb37e4f</td>\n",
       "      <td>1464.47</td>\n",
       "    </tr>\n",
       "    <tr>\n",
       "      <th>1514</th>\n",
       "      <td>ebd2d60905fb58271facef5596b620d3</td>\n",
       "      <td>1454.84</td>\n",
       "    </tr>\n",
       "    <tr>\n",
       "      <th>1424</th>\n",
       "      <td>dc317f341ab0e22f39acbd9dbf9b4a1f</td>\n",
       "      <td>1454.41</td>\n",
       "    </tr>\n",
       "    <tr>\n",
       "      <th>1035</th>\n",
       "      <td>9d5a9018aee56acb367ba9c3f05d1d6a</td>\n",
       "      <td>1453.56</td>\n",
       "    </tr>\n",
       "    <tr>\n",
       "      <th>1115</th>\n",
       "      <td>aac29b1b99776be73c3049939652091d</td>\n",
       "      <td>1447.18</td>\n",
       "    </tr>\n",
       "    <tr>\n",
       "      <th>186</th>\n",
       "      <td>1b4c3a6f53068f0b6944d2d005c9fc89</td>\n",
       "      <td>1444.36</td>\n",
       "    </tr>\n",
       "    <tr>\n",
       "      <th>893</th>\n",
       "      <td>87142160b41353c4e5fca2360caf6f92</td>\n",
       "      <td>1436.79</td>\n",
       "    </tr>\n",
       "    <tr>\n",
       "      <th>1455</th>\n",
       "      <td>e24fc9fcd865784fb25705606fe3dfe7</td>\n",
       "      <td>1426.68</td>\n",
       "    </tr>\n",
       "    <tr>\n",
       "      <th>1409</th>\n",
       "      <td>d98eec89afa3380e14463da2aabaea72</td>\n",
       "      <td>1413.28</td>\n",
       "    </tr>\n",
       "    <tr>\n",
       "      <th>850</th>\n",
       "      <td>80e6699fe29150b372a0c8a1ebf7dcc8</td>\n",
       "      <td>1409.15</td>\n",
       "    </tr>\n",
       "    <tr>\n",
       "      <th>4</th>\n",
       "      <td>004c9cd9d87a3c30c522c48c4fc07416</td>\n",
       "      <td>1386.54</td>\n",
       "    </tr>\n",
       "    <tr>\n",
       "      <th>891</th>\n",
       "      <td>86ccac0b835037332a596a33b6949ee1</td>\n",
       "      <td>1379.84</td>\n",
       "    </tr>\n",
       "    <tr>\n",
       "      <th>993</th>\n",
       "      <td>9616352088dcf83a7c06637f4ebf1c80</td>\n",
       "      <td>1355.85</td>\n",
       "    </tr>\n",
       "    <tr>\n",
       "      <th>881</th>\n",
       "      <td>855668e0971d4dfd7bef1b6a4133b41b</td>\n",
       "      <td>1334.71</td>\n",
       "    </tr>\n",
       "    <tr>\n",
       "      <th>1119</th>\n",
       "      <td>aaed1309374718fdd995ee4c58c9dfcd</td>\n",
       "      <td>1330.43</td>\n",
       "    </tr>\n",
       "    <tr>\n",
       "      <th>472</th>\n",
       "      <td>48162d548f5b1b11b9d29d1e01f75a61</td>\n",
       "      <td>1326.36</td>\n",
       "    </tr>\n",
       "    <tr>\n",
       "      <th>591</th>\n",
       "      <td>5a8e7d5003a1f221f9e1d6e411de7c23</td>\n",
       "      <td>1312.64</td>\n",
       "    </tr>\n",
       "  </tbody>\n",
       "</table>\n",
       "</div>"
      ],
      "text/plain": [
       "                           vendedor_id     lucro\n",
       "837   7e93a43ef30c4f03f38b393420bc753a  19108.44\n",
       "548   53243585a1d6dc2643021fd1853d8905  15396.17\n",
       "1619  fa1c13f2614d7b5c4749cbc52fecda94  12409.17\n",
       "467   46dc3b2cc0980fb8ec44634e21d2718e  11007.82\n",
       "476   4869f7a5dfa277a7dca6462dcf3b52b2   9538.71\n",
       "811   7a67c85e85bb2ce8582c35f2203ad736   7382.95\n",
       "640   620c87c171fb2a6dd6e8bb4dec959fc6   7088.82\n",
       "1344  ccc4bbb5f32a6ab2b7066a4130f114e3   5517.09\n",
       "609   5c243662ce92d84573bfaff24c3e3700   5162.72\n",
       "371   37be5a7c751166fbc5f8ccba4119e043   5046.40\n",
       "1642  fe2032dab1a61af8794248c8196565c9   4806.50\n",
       "869   834f3294fba9f932f56edc879193f925   4524.17\n",
       "485   4a3ca9315b744ce9f8e9374361493884   4221.09\n",
       "880   850f4f8af5ea87287ac68de36e29107f   4102.72\n",
       "1414  da8622b14eb17ae2831f4ac5b9dab84a   4066.38\n",
       "620   5dceca129747e92ff8ef7a997dc4f8ca   4024.66\n",
       "167   17e34d8224d27a541263c4c64b11a56b   3962.37\n",
       "882   8581055ce74af1daba164fdbd55a40de   3751.17\n",
       "1339  cc419e0650a3c5ba77189a1882b7556a   3599.15\n",
       "219   1f50f920176fa81dab994f9023523100   3389.88\n",
       "1280  c3cfdc648177fdbbbb35635a37472c53   3292.50\n",
       "657   6560211a19b47992c3666cc44a7e94c0   3256.19\n",
       "535   522620dcb18a6b31cd7bdf73665113a9   3249.57\n",
       "1168  b2ba3715d723d245138f291a6fe42594   3246.81\n",
       "784   76d5af76d0271110f9af36c92573f765   3206.88\n",
       "1608  f8db351d8c4c4c22c6835c19a46f01b0   2992.22\n",
       "260   25c5c91f63607446a97b143d2d535d31   2965.72\n",
       "1530  eeb6de78f79159600292e314a77cbd18   2860.03\n",
       "1026  9c0e69c7bf2619675bbadf47b43f655a   2835.29\n",
       "590   59fb871bf6f4522a87ba567b42dafecf   2816.07\n",
       "238   218d46b86c1881d022bce9c68a7d4b15   2696.90\n",
       "1584  f5a590cf36251cf1162ea35bef76fe84   2578.35\n",
       "1279  c3867b4666c7d76867627c2f7fb22e21   2506.16\n",
       "131   12b9676b00f60f3b700e83af21824c0e   2504.71\n",
       "1081  a416b6a846a11724393025641d4edd5e   2503.16\n",
       "1620  fa40cc5b934574b62717c68f3d678b6d   2477.66\n",
       "153   16090f2ca825584b5a147ab24aa30c86   2389.88\n",
       "256   2528513dd95219a6013d4d05176e391a   2364.88\n",
       "1525  edb1ef5e36e0c8cd84eb3c9b003e486d   2248.80\n",
       "1173  b33e7c55446eabf8fe1a42d037ac7d6d   2193.63\n",
       "1106  a888faf2d1baececa6baf9c3d603ee1f   2179.07\n",
       "75    0adac9fbd9a2b63cccaac4f8756c1ca8   2085.71\n",
       "1076  a3a38f4affed601eb87a97788c949667   2053.84\n",
       "1341  cca3071e3e9bb7d12640c9fbe2301306   2049.12\n",
       "413   3d871de0142ce09b7081e2b9d1733cb1   2033.84\n",
       "1437  de23c3b98a88888289c6f5cc1209054a   2025.53\n",
       "1501  e9bc59e7b60fc3063eb2290deda4cced   1996.82\n",
       "1498  e9779976487b77c6d4ac45f75ec7afe9   1978.02\n",
       "833   7e1fb0a3ebfb01ffb3a7dae98bf3238d   1976.03\n",
       "1207  b94cc9f10ddc85e4ba73a6f7974e7101   1958.58\n",
       "147   1554a68530182680ad5c8b042c3ab563   1938.02\n",
       "976   94144541854e298c2d976cb893b81343   1933.11\n",
       "756   7299e27ed73d2ad986de7f7c77d919fa   1921.11\n",
       "745   712e6ed8aa4aa1fa65dab41fed5737e4   1915.44\n",
       "42    05ff92fedb5be47920fea08e501238b9   1913.48\n",
       "743   710e3548e02bc1d2831dfc4f1b5b14d4   1904.23\n",
       "264   25e6ffe976bd75618accfe16cefcbd0d   1879.98\n",
       "381   391fc6631aebcf3004804e51b40bcf1e   1855.09\n",
       "1577  f45122a9ab94eb4f3f8953578bc0c560   1845.48\n",
       "789   77530e9772f57a62c906e1c21538ab82   1834.18\n",
       "877   8444e55c1f13cd5c179851e5ca5ebd00   1804.59\n",
       "1040  9de4643a8dbde634fe55621059d92273   1729.74\n",
       "1386  d50d79cb34e38265a8649c383dcffd48   1714.60\n",
       "1349  cd68562d3f44870c08922d380acae552   1711.61\n",
       "516   4e922959ae960d389249c378d1c939f5   1684.80\n",
       "816   7b07b3c7487f0ea825fc6df75abd658b   1680.92\n",
       "1250  bfd27a966d91cfaafdb25d076585f0da   1678.38\n",
       "832   7ddcbb64b5bc1ef36ca8c151f6ec77df   1660.88\n",
       "746   7142540dd4c91e2237acb7e911c4eba2   1651.43\n",
       "559   54a1852d1b8f10312c55e906355666ee   1641.57\n",
       "722   6edacfd9f9074789dad6d62ba7950b9c   1629.48\n",
       "705   6cd68b3ed6d59aaa9fece558ad360c0a   1612.81\n",
       "995   96493fab2fbb13a14d0c0e8772eef5c3   1612.35\n",
       "765   744dac408745240a2c2528fb1b6028f3   1579.98\n",
       "817   7b0df942f46435babab05d49b744b2c4   1569.06\n",
       "1120  aafe36600ce604f205b86b5084d3d767   1560.80\n",
       "669   669ae81880e08f269a64487cfb287169   1558.47\n",
       "104   0ea22c1cfbdc755f86b9b54b39c16043   1557.03\n",
       "1419  dbb9b48c841a0e39e21f98e1a6b2ec3e   1553.16\n",
       "755   725c32fa80c2faacc4fc88450d27314e   1541.95\n",
       "438   41b39e28db005d9731d9d485a83b4c38   1539.20\n",
       "1307  c847e075301870dd144a116762eaff9a   1472.43\n",
       "1324  cab85505710c7cb9b720bceb52b01cee   1468.61\n",
       "1401  d91fb3b7d041e83b64a00a3edfb37e4f   1464.47\n",
       "1514  ebd2d60905fb58271facef5596b620d3   1454.84\n",
       "1424  dc317f341ab0e22f39acbd9dbf9b4a1f   1454.41\n",
       "1035  9d5a9018aee56acb367ba9c3f05d1d6a   1453.56\n",
       "1115  aac29b1b99776be73c3049939652091d   1447.18\n",
       "186   1b4c3a6f53068f0b6944d2d005c9fc89   1444.36\n",
       "893   87142160b41353c4e5fca2360caf6f92   1436.79\n",
       "1455  e24fc9fcd865784fb25705606fe3dfe7   1426.68\n",
       "1409  d98eec89afa3380e14463da2aabaea72   1413.28\n",
       "850   80e6699fe29150b372a0c8a1ebf7dcc8   1409.15\n",
       "4     004c9cd9d87a3c30c522c48c4fc07416   1386.54\n",
       "891   86ccac0b835037332a596a33b6949ee1   1379.84\n",
       "993   9616352088dcf83a7c06637f4ebf1c80   1355.85\n",
       "881   855668e0971d4dfd7bef1b6a4133b41b   1334.71\n",
       "1119  aaed1309374718fdd995ee4c58c9dfcd   1330.43\n",
       "472   48162d548f5b1b11b9d29d1e01f75a61   1326.36\n",
       "591   5a8e7d5003a1f221f9e1d6e411de7c23   1312.64"
      ]
     },
     "execution_count": 71,
     "metadata": {},
     "output_type": "execute_result"
    }
   ],
   "source": [
    "df_abt[['vendedor_id','lucro']][df_abt['lucro']>0].sort_values(by='lucro',ascending=False).head(100)"
   ]
  },
  {
   "cell_type": "code",
   "execution_count": 72,
   "metadata": {},
   "outputs": [
    {
     "data": {
      "image/png": "[encoded data removed]",
      "text/plain": [
       "<Figure size 576x396 with 1 Axes>"
      ]
     },
     "metadata": {},
     "output_type": "display_data"
    }
   ],
   "source": [
    "plt.style.use('seaborn')\n",
    "sns.boxplot(x='lucro' , data= df_abt,showfliers=False)\n",
    "plt.xlabel(\"Lucro(R$)\",fontsize=14)\n",
    "plt.tick_params(axis=\"x\", labelsize=12)\n",
    "plt.suptitle(\"Lucro sem Outliers\", fontsize = 20, fontname = 'monospace', weight = 'bold')\n",
    "plt.show()"
   ]
  },
  {
   "cell_type": "code",
   "execution_count": 73,
   "metadata": {},
   "outputs": [
    {
     "data": {
      "image/png": "[encoded data removed]",
      "text/plain": [
       "<Figure size 576x396 with 1 Axes>"
      ]
     },
     "metadata": {},
     "output_type": "display_data"
    }
   ],
   "source": [
    "plt.style.use('seaborn')\n",
    "sns.boxplot(x='lucro' , data= df_abt,showfliers=True)\n",
    "plt.xlabel(\"Lucro(R$)\",fontsize=14)\n",
    "plt.tick_params(axis=\"x\", labelsize=12)\n",
    "plt.suptitle(\"Lucro com Outliers\", fontsize = 20, fontname = 'monospace', weight = 'bold')\n",
    "plt.show()"
   ]
  },
  {
   "cell_type": "code",
   "execution_count": 74,
   "metadata": {},
   "outputs": [
    {
     "data": {
      "image/png": "[encoded data removed]",
      "text/plain": [
       "<Figure size 1152x720 with 1 Axes>"
      ]
     },
     "metadata": {},
     "output_type": "display_data"
    }
   ],
   "source": [
    "#lucro\n",
    "plt.style.use('seaborn')\n",
    "fig, ax = plt.subplots(1, 1, figsize=(16, 10))\n",
    "sns.histplot(df_abt[\"lucro\"], bins=50, log_scale=(False, True), ax=ax)\n",
    "plt.tick_params(axis=\"x\", labelsize=14)\n",
    "plt.tick_params(axis=\"y\", labelsize=14)\n",
    "plt.xlabel(\"Lucro(R$)\",fontsize=14)\n",
    "plt.ylabel('Contagem',fontsize=14)\n",
    "\n",
    "plt.suptitle(\"Histograma-Lucro(R$)\", fontsize = 20, fontname = 'monospace', weight = 'bold')\n",
    "plt.show()\n",
    "#sns.histplot(df_abt[\"lucro\"], bins=50, ax=ax)"
   ]
  },
  {
   "cell_type": "code",
   "execution_count": 75,
   "metadata": {},
   "outputs": [
    {
     "data": {
      "image/png": "[encoded data removed]",
      "text/plain": [
       "<Figure size 576x396 with 1 Axes>"
      ]
     },
     "metadata": {},
     "output_type": "display_data"
    }
   ],
   "source": [
    "plt.style.use('seaborn')\n",
    "sns.boxplot(x='lucro' , data= df_abt,showfliers=False)\n",
    "plt.xlabel(\"Lucro(R$)\",fontsize=14)\n",
    "plt.tick_params(axis=\"x\", labelsize=12)\n",
    "plt.suptitle(\"Lucro sem Outliers\", fontsize = 20, fontname = 'monospace', weight = 'bold')\n",
    "plt.show()"
   ]
  },
  {
   "cell_type": "code",
   "execution_count": 76,
   "metadata": {},
   "outputs": [
    {
     "data": {
      "image/png": "[encoded data removed]",
      "text/plain": [
       "<Figure size 576x396 with 1 Axes>"
      ]
     },
     "metadata": {},
     "output_type": "display_data"
    }
   ],
   "source": [
    "plt.style.use('seaborn')\n",
    "sns.boxplot(x='lucro' , data= df_abt)\n",
    "plt.tick_params(axis=\"x\", labelsize=12)\n",
    "plt.xlabel(\"Lucro(R$)\",fontsize=14)\n",
    "plt.suptitle(\"Lucro com Outliers\", fontsize = 20, fontname = 'monospace', weight = 'bold')\n",
    "plt.show()"
   ]
  },
  {
   "cell_type": "code",
   "execution_count": 77,
   "metadata": {},
   "outputs": [
    {
     "data": {
      "text/html": [
       "<div>\n",
       "<style scoped>\n",
       "    .dataframe tbody tr th:only-of-type {\n",
       "        vertical-align: middle;\n",
       "    }\n",
       "\n",
       "    .dataframe tbody tr th {\n",
       "        vertical-align: top;\n",
       "    }\n",
       "\n",
       "    .dataframe thead th {\n",
       "        text-align: right;\n",
       "    }\n",
       "</style>\n",
       "<table border=\"1\" class=\"dataframe\">\n",
       "  <thead>\n",
       "    <tr style=\"text-align: right;\">\n",
       "      <th></th>\n",
       "      <th>receitas</th>\n",
       "      <th>custo_reviews</th>\n",
       "      <th>lucro</th>\n",
       "    </tr>\n",
       "  </thead>\n",
       "  <tbody>\n",
       "    <tr>\n",
       "      <th>0</th>\n",
       "      <td>1711.81</td>\n",
       "      <td>1370</td>\n",
       "      <td>-1336.38</td>\n",
       "    </tr>\n",
       "    <tr>\n",
       "      <th>1</th>\n",
       "      <td>1542.43</td>\n",
       "      <td>1075</td>\n",
       "      <td>-1002.32</td>\n",
       "    </tr>\n",
       "    <tr>\n",
       "      <th>2</th>\n",
       "      <td>932.76</td>\n",
       "      <td>440</td>\n",
       "      <td>-859.45</td>\n",
       "    </tr>\n",
       "    <tr>\n",
       "      <th>3</th>\n",
       "      <td>1714.90</td>\n",
       "      <td>1060</td>\n",
       "      <td>-845.02</td>\n",
       "    </tr>\n",
       "    <tr>\n",
       "      <th>4</th>\n",
       "      <td>8898.70</td>\n",
       "      <td>1635</td>\n",
       "      <td>-785.19</td>\n",
       "    </tr>\n",
       "    <tr>\n",
       "      <th>5</th>\n",
       "      <td>2645.39</td>\n",
       "      <td>840</td>\n",
       "      <td>-652.05</td>\n",
       "    </tr>\n",
       "    <tr>\n",
       "      <th>6</th>\n",
       "      <td>17422.93</td>\n",
       "      <td>5630</td>\n",
       "      <td>-642.44</td>\n",
       "    </tr>\n",
       "    <tr>\n",
       "      <th>7</th>\n",
       "      <td>656.74</td>\n",
       "      <td>240</td>\n",
       "      <td>-625.11</td>\n",
       "    </tr>\n",
       "    <tr>\n",
       "      <th>8</th>\n",
       "      <td>638.53</td>\n",
       "      <td>435</td>\n",
       "      <td>-596.86</td>\n",
       "    </tr>\n",
       "    <tr>\n",
       "      <th>9</th>\n",
       "      <td>741.84</td>\n",
       "      <td>230</td>\n",
       "      <td>-596.43</td>\n",
       "    </tr>\n",
       "    <tr>\n",
       "      <th>10</th>\n",
       "      <td>5807.31</td>\n",
       "      <td>1285</td>\n",
       "      <td>-593.19</td>\n",
       "    </tr>\n",
       "    <tr>\n",
       "      <th>11</th>\n",
       "      <td>241.73</td>\n",
       "      <td>280</td>\n",
       "      <td>-591.07</td>\n",
       "    </tr>\n",
       "    <tr>\n",
       "      <th>12</th>\n",
       "      <td>573.33</td>\n",
       "      <td>305</td>\n",
       "      <td>-552.66</td>\n",
       "    </tr>\n",
       "    <tr>\n",
       "      <th>13</th>\n",
       "      <td>2563.68</td>\n",
       "      <td>1220</td>\n",
       "      <td>-546.23</td>\n",
       "    </tr>\n",
       "    <tr>\n",
       "      <th>14</th>\n",
       "      <td>584.63</td>\n",
       "      <td>240</td>\n",
       "      <td>-546.05</td>\n",
       "    </tr>\n",
       "  </tbody>\n",
       "</table>\n",
       "</div>"
      ],
      "text/plain": [
       "    receitas  custo_reviews    lucro\n",
       "0    1711.81           1370 -1336.38\n",
       "1    1542.43           1075 -1002.32\n",
       "2     932.76            440  -859.45\n",
       "3    1714.90           1060  -845.02\n",
       "4    8898.70           1635  -785.19\n",
       "5    2645.39            840  -652.05\n",
       "6   17422.93           5630  -642.44\n",
       "7     656.74            240  -625.11\n",
       "8     638.53            435  -596.86\n",
       "9     741.84            230  -596.43\n",
       "10   5807.31           1285  -593.19\n",
       "11    241.73            280  -591.07\n",
       "12    573.33            305  -552.66\n",
       "13   2563.68           1220  -546.23\n",
       "14    584.63            240  -546.05"
      ]
     },
     "execution_count": 77,
     "metadata": {},
     "output_type": "execute_result"
    }
   ],
   "source": [
    "#Encontrou os vendedores menos lucrativos com base em avaliações negativas\n",
    "df_abt[['receitas', 'custo_reviews', 'lucro']].sort_values(by='lucro', ignore_index= True).head(15)"
   ]
  },
  {
   "cell_type": "code",
   "execution_count": 78,
   "metadata": {},
   "outputs": [
    {
     "name": "stdout",
     "output_type": "stream",
     "text": [
      "Número: - vendedores:  1658\n",
      "        - pedidos:    42742 \n",
      "Lucro atual:   R$ 191221.51\n"
     ]
    }
   ],
   "source": [
    "print(f\"Número: - vendedores:  {df_abt['vendedor_id'].nunique()}\")\n",
    "print(f\"        - pedidos:    {df_abt['qtd_pedidos'].sum()} \")\n",
    "print(f\"Lucro atual:   R$ {round(df_abt['lucro'].sum(), 2)}\")"
   ]
  },
  {
   "cell_type": "code",
   "execution_count": 79,
   "metadata": {},
   "outputs": [],
   "source": [
    "#contar os vendedores a remover\n",
    "vendedores_removidos = []\n",
    "#salve o lucro total depois de remover os vendedores\n",
    "lista_lucro = []\n",
    "\n",
    "df = df_abt.sort_values(by='lucro', ignore_index= True).copy(deep=True)\n",
    "\n",
    "for i in range(len(df)):\n",
    "    lista_lucro.append(mf.calcula_lucro_total(df[i:]) / 1000)\n",
    "    vendedores_removidos.append(i)\n"
   ]
  },
  {
   "cell_type": "code",
   "execution_count": 80,
   "metadata": {},
   "outputs": [
    {
     "data": {
      "image/png": "[encoded data removed]",
      "text/plain": [
       "<Figure size 576x396 with 1 Axes>"
      ]
     },
     "metadata": {},
     "output_type": "display_data"
    }
   ],
   "source": [
    "#Como o lucro muda quando deixamos de lado os vendedores menos lucrativos?\n",
    "sns.lineplot(x = vendedores_removidos, y = lista_lucro)\n",
    "plt.axvline(1252, 0, 1, color= 'red')\n",
    "plt.xlabel(\"Qtd Vendedores\",fontsize=14)\n",
    "plt.ylabel('Lucro Total(R$ 1000',fontsize=14)\n",
    "plt.xlim(0,2000)\n",
    "plt.ylim(0,450)\n",
    "plt.tick_params(axis=\"x\", labelsize=12)\n",
    "plt.tick_params(axis=\"y\", labelsize=12)\n",
    "plt.suptitle(\"Lucro X Qtd Vendedores a Remover\", fontsize = 20, fontname = 'monospace', weight = 'bold')\n",
    "plt.show()"
   ]
  },
  {
   "cell_type": "code",
   "execution_count": 81,
   "metadata": {},
   "outputs": [
    {
     "data": {
      "text/plain": [
       "(410.02799, 1252)"
      ]
     },
     "execution_count": 81,
     "metadata": {},
     "output_type": "execute_result"
    }
   ],
   "source": [
    "lucro_maximo = max(lista_lucro)\n",
    "vendedores_cortados = lista_lucro.index(lucro_maximo)\n",
    "lucro_maximo, vendedores_cortados"
   ]
  },
  {
   "cell_type": "code",
   "execution_count": 82,
   "metadata": {},
   "outputs": [],
   "source": [
    "#Número ideal de vendedores ruins para remover\n",
    "novo_lucro = []\n",
    "novo_adm_custos = []\n",
    "novo_custo_reviews = []\n",
    "nova_receita = []\n",
    "\n",
    "nb_sellers_to_remove = 2000\n",
    "for i in range(nb_sellers_to_remove):\n",
    "    X = df_abt.sort_values(by=\"lucro\", ascending=True).iloc[i:, :].copy()\n",
    "    novo_lucro.append(X['lucro'].sum())\n",
    "    novo_adm_custos.append(X['adm_custos'].sum())\n",
    "    novo_custo_reviews.append(X['custo_reviews'].sum())\n",
    "    nova_receita.append(X['receitas'].sum())\n",
    "#np.argmax(novo_lucro),np.max(novo_lucro)"
   ]
  },
  {
   "cell_type": "code",
   "execution_count": 83,
   "metadata": {},
   "outputs": [
    {
     "data": {
      "text/plain": [
       "<function matplotlib.pyplot.show(close=None, block=None)>"
      ]
     },
     "execution_count": 83,
     "metadata": {},
     "output_type": "execute_result"
    },
    {
     "data": {
      "image/png": "[encoded data removed]",
      "text/plain": [
       "<Figure size 1152x720 with 1 Axes>"
      ]
     },
     "metadata": {},
     "output_type": "display_data"
    }
   ],
   "source": [
    "fig, ax = plt.subplots(1, 1, figsize=(16, 10))\n",
    "sns.lineplot(x=range(nb_sellers_to_remove), y=novo_lucro, ax=ax, label=\"lucro\", linewidth=5)\n",
    "sns.lineplot(x=range(nb_sellers_to_remove), y=novo_adm_custos, ax=ax, label=\"custos adm.\", linestyle=\"--\")\n",
    "sns.lineplot(x=range(nb_sellers_to_remove), y=novo_custo_reviews, ax=ax, label=\"custo reviews\", linestyle=\"--\")\n",
    "sns.lineplot(x=range(nb_sellers_to_remove), y=nova_receita, ax=ax, label=\"receitas\", linestyle=\"--\")\n",
    "\n",
    "sns.scatterplot(x=[np.argmax(novo_lucro)], y=[np.max(novo_lucro)], ax=ax, s=300)\n",
    "# ax.axvline([np.argmax(new_profit)],color=\"black\",linestyle=\"--\")\n",
    "ax.set_title(\"Lucro, Receitas,  Custos Administrativos e Custo dos Reviews\", size=16)\n",
    "ax.set_xlabel(\"Número de vendedores a remover\",fontsize=14)\n",
    "ax.set_ylabel(\"Lucro(R$)\",fontsize=14)\n",
    "plt.tick_params(axis=\"x\", labelsize=12)\n",
    "plt.tick_params(axis=\"y\", labelsize=12)\n",
    "plt.suptitle(\"Comparativo\", fontsize = 20, fontname = 'monospace', weight = 'bold')\n",
    "plt.show"
   ]
  },
  {
   "cell_type": "code",
   "execution_count": 84,
   "metadata": {},
   "outputs": [],
   "source": [
    "#Ao remover vendedores, reduzimos os custos relacionados ao usuário enquanto perdemos o volume de pedidos e, \n",
    "#portanto, aumentamos os custos administrativos."
   ]
  },
  {
   "cell_type": "code",
   "execution_count": 85,
   "metadata": {},
   "outputs": [
    {
     "name": "stdout",
     "output_type": "stream",
     "text": [
      "-----Redução do número de vendedores\n",
      "Número: - vendedores:        406\n",
      "        - pedidos:         30649 \n",
      "Lucro neste caso:   R$ 410027.99\n",
      "Ganho:                      114%\n"
     ]
    }
   ],
   "source": [
    "print('-----Redução do número de vendedores')\n",
    "print(f\"Número: - vendedores:        {df['vendedor_id'][1252:].count()}\")\n",
    "print(f\"        - pedidos:         {df['qtd_pedidos'][1252:].sum()} \")\n",
    "print(f\"Lucro neste caso:   R$ {np.max(novo_lucro)}\")\n",
    "print(f\"Ganho:                      {int(np.round((np.max(novo_lucro) - novo_lucro[0]) / novo_lucro[0] * 100))}%\")"
   ]
  },
  {
   "cell_type": "code",
   "execution_count": 87,
   "metadata": {},
   "outputs": [
    {
     "data": {
      "text/plain": [
       "<function matplotlib.pyplot.show(close=None, block=None)>"
      ]
     },
     "execution_count": 87,
     "metadata": {},
     "output_type": "execute_result"
    },
    {
     "data": {
      "image/png": "[encoded data removed]",
      "text/plain": [
       "<Figure size 648x432 with 1 Axes>"
      ]
     },
     "metadata": {},
     "output_type": "display_data"
    }
   ],
   "source": [
    "df= pd.DataFrame.from_dict({'antes': [191.22] , 'depois': [410.03]})\n",
    "plt.figure(figsize=(9,6))\n",
    "sns.barplot(data=df)\n",
    "#plt.xlabel(\"Qtd Vendedores\",fontsize=14)\n",
    "plt.ylabel('Lucro Total(R$ 1000)',fontsize=14)\n",
    "plt.tick_params(axis=\"x\", labelsize=14)\n",
    "plt.tick_params(axis=\"y\", labelsize=14)\n",
    "plt.suptitle(\"Comparativo do Lucro\", fontsize = 20, fontname = 'monospace', weight = 'bold')\n",
    "plt.show"
   ]
  },
  {
   "cell_type": "code",
   "execution_count": 88,
   "metadata": {},
   "outputs": [],
   "source": [
    "df_abt_vend=df_abt.copy(deep=True)"
   ]
  },
  {
   "cell_type": "code",
   "execution_count": 89,
   "metadata": {},
   "outputs": [],
   "source": [
    "#Detecção dos maus vendedores\n",
    "df_abt_vend[\"tipo_vendedor\"] = \"Bom\"\n",
    "df_abt_vend.sort_values(by=\"lucro\", ascending=True, inplace=True)\n",
    "df_abt_vend.loc[df_abt_vend.index[:np.argmax(novo_lucro)], \"tipo_vendedor\"] = \"Mau\""
   ]
  },
  {
   "cell_type": "code",
   "execution_count": 90,
   "metadata": {},
   "outputs": [
    {
     "data": {
      "text/plain": [
       "<function matplotlib.pyplot.show(close=None, block=None)>"
      ]
     },
     "execution_count": 90,
     "metadata": {},
     "output_type": "execute_result"
    },
    {
     "data": {
      "image/png": "[encoded data removed]",
      "text/plain": [
       "<Figure size 1152x720 with 1 Axes>"
      ]
     },
     "metadata": {},
     "output_type": "display_data"
    }
   ],
   "source": [
    "fig, ax = plt.subplots(1, 1, figsize=(16, 10))\n",
    "sns.histplot(x='lucro', data=df_abt_vend, bins=50, hue=\"tipo_vendedor\", log_scale=(False, True), ax=ax, multiple=\"stack\")\n",
    "plt.ylabel('Contagem',fontsize=14)\n",
    "plt.xlabel('Lucro',fontsize=14)\n",
    "plt.tick_params(axis=\"x\", labelsize=14)\n",
    "plt.tick_params(axis=\"y\", labelsize=14)\n",
    "plt.suptitle(\"Classificação dos Vendedores\", fontsize = 20, fontname = 'monospace', weight = 'bold')\n",
    "plt.show"
   ]
  }
 ],
 "metadata": {
  "kernelspec": {
   "display_name": "Python 3",
   "language": "python",
   "name": "python3"
  },
  "language_info": {
   "codemirror_mode": {
    "name": "ipython",
    "version": 3
   },
   "file_extension": ".py",
   "mimetype": "text/x-python",
   "name": "python",
   "nbconvert_exporter": "python",
   "pygments_lexer": "ipython3",
   "version": "3.8.8"
  }
 },
 "nbformat": 4,
 "nbformat_minor": 4
}
